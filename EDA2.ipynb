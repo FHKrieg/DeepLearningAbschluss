{
 "cells": [
  {
   "cell_type": "markdown",
   "metadata": {},
   "source": [
    "# Sydney Real Estate"
   ]
  },
  {
   "cell_type": "markdown",
   "metadata": {},
   "source": [
    "The SurfIntoYourHome LLC from Sydney wants to offer a new service to their clients. Similar to the competition from overseas, the company wants to offer a price estimate of a building to their customers. This is supposed to help the customer evaluate wether the pricing of a building is fair or not. In order for the prediction to work the company has provided a dataset under the CC0: Public Domain License from https://www.kaggle.com/datasets/mihirhalai/sydney-house-prices?select=SydneyHousePrices.csv which has been scraped from the web.\n"
   ]
  },
  {
   "cell_type": "code",
   "execution_count": 1,
   "metadata": {},
   "outputs": [],
   "source": [
    "import pandas as pd\n",
    "import numpy as np\n",
    "import seaborn as sns\n",
    "import itertools\n",
    "from sklearn.metrics import mean_absolute_error\n",
    "sns.set(rc={'figure.figsize':(20,10)})"
   ]
  },
  {
   "cell_type": "code",
   "execution_count": 2,
   "metadata": {},
   "outputs": [],
   "source": [
    "data = pd.read_csv(\"data/SydneyHousePrices.csv\")# for the server/home/jovyan/DeepLearningExperiment/data/SydneyHousePrices.csv\")"
   ]
  },
  {
   "cell_type": "code",
   "execution_count": 3,
   "metadata": {},
   "outputs": [
    {
     "data": {
      "text/plain": [
       "(199504, 9)"
      ]
     },
     "execution_count": 3,
     "metadata": {},
     "output_type": "execute_result"
    }
   ],
   "source": [
    "data.shape"
   ]
  },
  {
   "cell_type": "code",
   "execution_count": 4,
   "metadata": {},
   "outputs": [
    {
     "data": {
      "text/html": [
       "<div>\n",
       "<style scoped>\n",
       "    .dataframe tbody tr th:only-of-type {\n",
       "        vertical-align: middle;\n",
       "    }\n",
       "\n",
       "    .dataframe tbody tr th {\n",
       "        vertical-align: top;\n",
       "    }\n",
       "\n",
       "    .dataframe thead th {\n",
       "        text-align: right;\n",
       "    }\n",
       "</style>\n",
       "<table border=\"1\" class=\"dataframe\">\n",
       "  <thead>\n",
       "    <tr style=\"text-align: right;\">\n",
       "      <th></th>\n",
       "      <th>Date</th>\n",
       "      <th>Id</th>\n",
       "      <th>suburb</th>\n",
       "      <th>postalCode</th>\n",
       "      <th>sellPrice</th>\n",
       "      <th>bed</th>\n",
       "      <th>bath</th>\n",
       "      <th>car</th>\n",
       "      <th>propType</th>\n",
       "    </tr>\n",
       "  </thead>\n",
       "  <tbody>\n",
       "    <tr>\n",
       "      <th>0</th>\n",
       "      <td>2019-06-19</td>\n",
       "      <td>1</td>\n",
       "      <td>Avalon Beach</td>\n",
       "      <td>2107</td>\n",
       "      <td>1210000</td>\n",
       "      <td>4.0</td>\n",
       "      <td>2</td>\n",
       "      <td>2.0</td>\n",
       "      <td>house</td>\n",
       "    </tr>\n",
       "    <tr>\n",
       "      <th>1</th>\n",
       "      <td>2019-06-13</td>\n",
       "      <td>2</td>\n",
       "      <td>Avalon Beach</td>\n",
       "      <td>2107</td>\n",
       "      <td>2250000</td>\n",
       "      <td>4.0</td>\n",
       "      <td>3</td>\n",
       "      <td>4.0</td>\n",
       "      <td>house</td>\n",
       "    </tr>\n",
       "    <tr>\n",
       "      <th>2</th>\n",
       "      <td>2019-06-07</td>\n",
       "      <td>3</td>\n",
       "      <td>Whale Beach</td>\n",
       "      <td>2107</td>\n",
       "      <td>2920000</td>\n",
       "      <td>3.0</td>\n",
       "      <td>3</td>\n",
       "      <td>2.0</td>\n",
       "      <td>house</td>\n",
       "    </tr>\n",
       "    <tr>\n",
       "      <th>3</th>\n",
       "      <td>2019-05-28</td>\n",
       "      <td>4</td>\n",
       "      <td>Avalon Beach</td>\n",
       "      <td>2107</td>\n",
       "      <td>1530000</td>\n",
       "      <td>3.0</td>\n",
       "      <td>1</td>\n",
       "      <td>2.0</td>\n",
       "      <td>house</td>\n",
       "    </tr>\n",
       "    <tr>\n",
       "      <th>4</th>\n",
       "      <td>2019-05-22</td>\n",
       "      <td>5</td>\n",
       "      <td>Whale Beach</td>\n",
       "      <td>2107</td>\n",
       "      <td>8000000</td>\n",
       "      <td>5.0</td>\n",
       "      <td>4</td>\n",
       "      <td>4.0</td>\n",
       "      <td>house</td>\n",
       "    </tr>\n",
       "  </tbody>\n",
       "</table>\n",
       "</div>"
      ],
      "text/plain": [
       "         Date  Id        suburb  postalCode  sellPrice  bed  bath  car  \\\n",
       "0  2019-06-19   1  Avalon Beach        2107    1210000  4.0     2  2.0   \n",
       "1  2019-06-13   2  Avalon Beach        2107    2250000  4.0     3  4.0   \n",
       "2  2019-06-07   3   Whale Beach        2107    2920000  3.0     3  2.0   \n",
       "3  2019-05-28   4  Avalon Beach        2107    1530000  3.0     1  2.0   \n",
       "4  2019-05-22   5   Whale Beach        2107    8000000  5.0     4  4.0   \n",
       "\n",
       "  propType  \n",
       "0    house  \n",
       "1    house  \n",
       "2    house  \n",
       "3    house  \n",
       "4    house  "
      ]
     },
     "execution_count": 4,
     "metadata": {},
     "output_type": "execute_result"
    }
   ],
   "source": [
    "data.head()"
   ]
  },
  {
   "cell_type": "markdown",
   "metadata": {},
   "source": [
    "The dataset contains 199504 rows and has 9 columns."
   ]
  },
  {
   "cell_type": "code",
   "execution_count": 5,
   "metadata": {},
   "outputs": [
    {
     "data": {
      "text/plain": [
       "2147483647"
      ]
     },
     "execution_count": 5,
     "metadata": {},
     "output_type": "execute_result"
    }
   ],
   "source": [
    "data[\"sellPrice\"].max()"
   ]
  },
  {
   "cell_type": "code",
   "execution_count": 6,
   "metadata": {},
   "outputs": [
    {
     "data": {
      "text/html": [
       "<div>\n",
       "<style scoped>\n",
       "    .dataframe tbody tr th:only-of-type {\n",
       "        vertical-align: middle;\n",
       "    }\n",
       "\n",
       "    .dataframe tbody tr th {\n",
       "        vertical-align: top;\n",
       "    }\n",
       "\n",
       "    .dataframe thead th {\n",
       "        text-align: right;\n",
       "    }\n",
       "</style>\n",
       "<table border=\"1\" class=\"dataframe\">\n",
       "  <thead>\n",
       "    <tr style=\"text-align: right;\">\n",
       "      <th></th>\n",
       "      <th>Id</th>\n",
       "      <th>postalCode</th>\n",
       "      <th>sellPrice</th>\n",
       "      <th>bed</th>\n",
       "      <th>bath</th>\n",
       "      <th>car</th>\n",
       "    </tr>\n",
       "  </thead>\n",
       "  <tbody>\n",
       "    <tr>\n",
       "      <th>count</th>\n",
       "      <td>199504.00000</td>\n",
       "      <td>199504.000000</td>\n",
       "      <td>1.995040e+05</td>\n",
       "      <td>199350.000000</td>\n",
       "      <td>199504.000000</td>\n",
       "      <td>181353.000000</td>\n",
       "    </tr>\n",
       "    <tr>\n",
       "      <th>mean</th>\n",
       "      <td>99752.50000</td>\n",
       "      <td>2196.379155</td>\n",
       "      <td>1.269776e+06</td>\n",
       "      <td>3.516479</td>\n",
       "      <td>1.890669</td>\n",
       "      <td>1.936224</td>\n",
       "    </tr>\n",
       "    <tr>\n",
       "      <th>std</th>\n",
       "      <td>57591.98839</td>\n",
       "      <td>193.053467</td>\n",
       "      <td>6.948239e+06</td>\n",
       "      <td>1.066555</td>\n",
       "      <td>0.926001</td>\n",
       "      <td>1.060237</td>\n",
       "    </tr>\n",
       "    <tr>\n",
       "      <th>min</th>\n",
       "      <td>1.00000</td>\n",
       "      <td>2000.000000</td>\n",
       "      <td>1.000000e+00</td>\n",
       "      <td>1.000000</td>\n",
       "      <td>1.000000</td>\n",
       "      <td>1.000000</td>\n",
       "    </tr>\n",
       "    <tr>\n",
       "      <th>25%</th>\n",
       "      <td>49876.75000</td>\n",
       "      <td>2082.000000</td>\n",
       "      <td>7.200000e+05</td>\n",
       "      <td>3.000000</td>\n",
       "      <td>1.000000</td>\n",
       "      <td>1.000000</td>\n",
       "    </tr>\n",
       "    <tr>\n",
       "      <th>50%</th>\n",
       "      <td>99752.50000</td>\n",
       "      <td>2144.000000</td>\n",
       "      <td>9.850000e+05</td>\n",
       "      <td>3.000000</td>\n",
       "      <td>2.000000</td>\n",
       "      <td>2.000000</td>\n",
       "    </tr>\n",
       "    <tr>\n",
       "      <th>75%</th>\n",
       "      <td>149628.25000</td>\n",
       "      <td>2211.000000</td>\n",
       "      <td>1.475000e+06</td>\n",
       "      <td>4.000000</td>\n",
       "      <td>2.000000</td>\n",
       "      <td>2.000000</td>\n",
       "    </tr>\n",
       "    <tr>\n",
       "      <th>max</th>\n",
       "      <td>199504.00000</td>\n",
       "      <td>4878.000000</td>\n",
       "      <td>2.147484e+09</td>\n",
       "      <td>99.000000</td>\n",
       "      <td>99.000000</td>\n",
       "      <td>41.000000</td>\n",
       "    </tr>\n",
       "  </tbody>\n",
       "</table>\n",
       "</div>"
      ],
      "text/plain": [
       "                 Id     postalCode     sellPrice            bed  \\\n",
       "count  199504.00000  199504.000000  1.995040e+05  199350.000000   \n",
       "mean    99752.50000    2196.379155  1.269776e+06       3.516479   \n",
       "std     57591.98839     193.053467  6.948239e+06       1.066555   \n",
       "min         1.00000    2000.000000  1.000000e+00       1.000000   \n",
       "25%     49876.75000    2082.000000  7.200000e+05       3.000000   \n",
       "50%     99752.50000    2144.000000  9.850000e+05       3.000000   \n",
       "75%    149628.25000    2211.000000  1.475000e+06       4.000000   \n",
       "max    199504.00000    4878.000000  2.147484e+09      99.000000   \n",
       "\n",
       "                bath            car  \n",
       "count  199504.000000  181353.000000  \n",
       "mean        1.890669       1.936224  \n",
       "std         0.926001       1.060237  \n",
       "min         1.000000       1.000000  \n",
       "25%         1.000000       1.000000  \n",
       "50%         2.000000       2.000000  \n",
       "75%         2.000000       2.000000  \n",
       "max        99.000000      41.000000  "
      ]
     },
     "execution_count": 6,
     "metadata": {},
     "output_type": "execute_result"
    }
   ],
   "source": [
    "data.describe()"
   ]
  },
  {
   "cell_type": "markdown",
   "metadata": {},
   "source": [
    "The dataset contains property that has been sold for 1 AUD up to 2 billion dollar. This is clearly a mistake and during the data cleaning those extreme values will be removed. the lower values for bedrooms, bathrooms and car parking spots seem plausible as they are all 1. However, the max values for bed and bathrooms of 99 seems implausible. The same applies for the car parking with 41. Even if those values are true the company is focused on singles and families and not real estate developers, therefor those values can be excluded from the prediction."
   ]
  },
  {
   "cell_type": "markdown",
   "metadata": {},
   "source": [
    "For this purpose the dataset will be filtered to only keep listings with a price lower than or equal to 4 Mio AUD. For the bedrooms, bathrooms and car parking lots a filter of 10 is applied. "
   ]
  },
  {
   "cell_type": "markdown",
   "metadata": {},
   "source": [
    "Because the company gets paid a percentage off the price the property is sold for they are only interested in ones that are valued at a minimum of 500,000 AUD."
   ]
  },
  {
   "cell_type": "code",
   "execution_count": 7,
   "metadata": {},
   "outputs": [],
   "source": [
    "data_filtered = data[data[\"sellPrice\"]<= 4000000]\n",
    "data_filtered = data_filtered[data_filtered[\"sellPrice\"]>= 500000]\n",
    "data_filtered = data_filtered[data_filtered[\"bed\"]<= 10]\n",
    "data_filtered = data_filtered[data_filtered[\"bath\"]<= 10]\n",
    "data_filtered = data_filtered[data_filtered[\"car\"]<= 10]"
   ]
  },
  {
   "cell_type": "code",
   "execution_count": 8,
   "metadata": {},
   "outputs": [
    {
     "data": {
      "text/html": [
       "<div>\n",
       "<style scoped>\n",
       "    .dataframe tbody tr th:only-of-type {\n",
       "        vertical-align: middle;\n",
       "    }\n",
       "\n",
       "    .dataframe tbody tr th {\n",
       "        vertical-align: top;\n",
       "    }\n",
       "\n",
       "    .dataframe thead th {\n",
       "        text-align: right;\n",
       "    }\n",
       "</style>\n",
       "<table border=\"1\" class=\"dataframe\">\n",
       "  <thead>\n",
       "    <tr style=\"text-align: right;\">\n",
       "      <th></th>\n",
       "      <th>Id</th>\n",
       "      <th>postalCode</th>\n",
       "      <th>sellPrice</th>\n",
       "      <th>bed</th>\n",
       "      <th>bath</th>\n",
       "      <th>car</th>\n",
       "    </tr>\n",
       "  </thead>\n",
       "  <tbody>\n",
       "    <tr>\n",
       "      <th>count</th>\n",
       "      <td>166356.000000</td>\n",
       "      <td>166356.000000</td>\n",
       "      <td>1.663560e+05</td>\n",
       "      <td>166356.000000</td>\n",
       "      <td>166356.000000</td>\n",
       "      <td>166356.000000</td>\n",
       "    </tr>\n",
       "    <tr>\n",
       "      <th>mean</th>\n",
       "      <td>98963.169961</td>\n",
       "      <td>2195.212977</td>\n",
       "      <td>1.221979e+06</td>\n",
       "      <td>3.603417</td>\n",
       "      <td>1.949392</td>\n",
       "      <td>1.938187</td>\n",
       "    </tr>\n",
       "    <tr>\n",
       "      <th>std</th>\n",
       "      <td>57529.026686</td>\n",
       "      <td>185.510444</td>\n",
       "      <td>6.403501e+05</td>\n",
       "      <td>0.945752</td>\n",
       "      <td>0.833357</td>\n",
       "      <td>0.978318</td>\n",
       "    </tr>\n",
       "    <tr>\n",
       "      <th>min</th>\n",
       "      <td>1.000000</td>\n",
       "      <td>2000.000000</td>\n",
       "      <td>5.000000e+05</td>\n",
       "      <td>1.000000</td>\n",
       "      <td>1.000000</td>\n",
       "      <td>1.000000</td>\n",
       "    </tr>\n",
       "    <tr>\n",
       "      <th>25%</th>\n",
       "      <td>48374.750000</td>\n",
       "      <td>2090.000000</td>\n",
       "      <td>7.600000e+05</td>\n",
       "      <td>3.000000</td>\n",
       "      <td>1.000000</td>\n",
       "      <td>1.000000</td>\n",
       "    </tr>\n",
       "    <tr>\n",
       "      <th>50%</th>\n",
       "      <td>99139.500000</td>\n",
       "      <td>2146.000000</td>\n",
       "      <td>1.020000e+06</td>\n",
       "      <td>4.000000</td>\n",
       "      <td>2.000000</td>\n",
       "      <td>2.000000</td>\n",
       "    </tr>\n",
       "    <tr>\n",
       "      <th>75%</th>\n",
       "      <td>149105.250000</td>\n",
       "      <td>2211.000000</td>\n",
       "      <td>1.499125e+06</td>\n",
       "      <td>4.000000</td>\n",
       "      <td>2.000000</td>\n",
       "      <td>2.000000</td>\n",
       "    </tr>\n",
       "    <tr>\n",
       "      <th>max</th>\n",
       "      <td>199504.000000</td>\n",
       "      <td>4217.000000</td>\n",
       "      <td>4.000000e+06</td>\n",
       "      <td>10.000000</td>\n",
       "      <td>10.000000</td>\n",
       "      <td>10.000000</td>\n",
       "    </tr>\n",
       "  </tbody>\n",
       "</table>\n",
       "</div>"
      ],
      "text/plain": [
       "                  Id     postalCode     sellPrice            bed  \\\n",
       "count  166356.000000  166356.000000  1.663560e+05  166356.000000   \n",
       "mean    98963.169961    2195.212977  1.221979e+06       3.603417   \n",
       "std     57529.026686     185.510444  6.403501e+05       0.945752   \n",
       "min         1.000000    2000.000000  5.000000e+05       1.000000   \n",
       "25%     48374.750000    2090.000000  7.600000e+05       3.000000   \n",
       "50%     99139.500000    2146.000000  1.020000e+06       4.000000   \n",
       "75%    149105.250000    2211.000000  1.499125e+06       4.000000   \n",
       "max    199504.000000    4217.000000  4.000000e+06      10.000000   \n",
       "\n",
       "                bath            car  \n",
       "count  166356.000000  166356.000000  \n",
       "mean        1.949392       1.938187  \n",
       "std         0.833357       0.978318  \n",
       "min         1.000000       1.000000  \n",
       "25%         1.000000       1.000000  \n",
       "50%         2.000000       2.000000  \n",
       "75%         2.000000       2.000000  \n",
       "max        10.000000      10.000000  "
      ]
     },
     "execution_count": 8,
     "metadata": {},
     "output_type": "execute_result"
    }
   ],
   "source": [
    "data_filtered.describe()"
   ]
  },
  {
   "cell_type": "markdown",
   "metadata": {},
   "source": [
    "The resulting dataset appears to be more plausible now. The average real estate object has now a price of roughly 990000 AUD, which contains 3.6 bedrooms, almost 2 bathrooms and 2 car parking plots. "
   ]
  },
  {
   "cell_type": "markdown",
   "metadata": {},
   "source": [
    "As a next step the year of the sale will be extracted as feature. The prices in the sydney are mostlikely be correlated to the year of the sale.\n"
   ]
  },
  {
   "cell_type": "code",
   "execution_count": 9,
   "metadata": {},
   "outputs": [
    {
     "data": {
      "text/plain": [
       "str"
      ]
     },
     "execution_count": 9,
     "metadata": {},
     "output_type": "execute_result"
    }
   ],
   "source": [
    "type(data_filtered[\"Date\"][0])"
   ]
  },
  {
   "cell_type": "markdown",
   "metadata": {},
   "source": [
    "The date is saved as string so the year can be extracted rather easily."
   ]
  },
  {
   "cell_type": "code",
   "execution_count": 10,
   "metadata": {},
   "outputs": [],
   "source": [
    "data_filtered[\"year\"] = pd.to_numeric(data_filtered[\"Date\"].str[:4])"
   ]
  },
  {
   "cell_type": "code",
   "execution_count": 11,
   "metadata": {},
   "outputs": [
    {
     "data": {
      "text/plain": [
       "year\n",
       "2000        1\n",
       "2001        3\n",
       "2002        1\n",
       "2003        6\n",
       "2004       32\n",
       "2005       78\n",
       "2006      110\n",
       "2007      553\n",
       "2008     2632\n",
       "2009     5506\n",
       "2010     6906\n",
       "2011     7719\n",
       "2012     8960\n",
       "2013    14163\n",
       "2014    19348\n",
       "2015    22825\n",
       "2016    23025\n",
       "2017    25048\n",
       "2018    21053\n",
       "2019     8387\n",
       "Name: sellPrice, dtype: int64"
      ]
     },
     "execution_count": 11,
     "metadata": {},
     "output_type": "execute_result"
    }
   ],
   "source": [
    "data_filtered.groupby(\"year\")[\"sellPrice\"].count()"
   ]
  },
  {
   "cell_type": "markdown",
   "metadata": {},
   "source": [
    "Becasue most of the values are in the range from 2009 to 2019, all values before that will be excluded. 2009 will be set as year 1 for the prediction. The idea of setting the date as this type of vaiable is that in general the housing prices are increasing year over year [2]. This is not always true especially in times of crises the prices can drop from the year before. However, most of the time the prices of houses increase year over year. "
   ]
  },
  {
   "cell_type": "code",
   "execution_count": 12,
   "metadata": {},
   "outputs": [],
   "source": [
    "data_filtered = data_filtered[data_filtered[\"year\"]>=2009]"
   ]
  },
  {
   "cell_type": "code",
   "execution_count": 13,
   "metadata": {},
   "outputs": [],
   "source": [
    "data_filtered[\"year_norm\"] = data_filtered[\"year\"] -2008"
   ]
  },
  {
   "cell_type": "code",
   "execution_count": 14,
   "metadata": {},
   "outputs": [
    {
     "data": {
      "text/plain": [
       "<AxesSubplot:xlabel='year', ylabel='sellPrice'>"
      ]
     },
     "execution_count": 14,
     "metadata": {},
     "output_type": "execute_result"
    },
    {
     "data": {
      "image/png": "[encoded data removed]",
      "text/plain": [
       "<Figure size 432x288 with 1 Axes>"
      ]
     },
     "metadata": {
      "needs_background": "light"
     },
     "output_type": "display_data"
    }
   ],
   "source": [
    "sns.lineplot(x=data_filtered.groupby(\"year\")[\"sellPrice\"].mean().round(0).index[:], y= data_filtered.groupby(\"year\")[\"sellPrice\"].mean().round(0)[:])\n"
   ]
  },
  {
   "cell_type": "markdown",
   "metadata": {},
   "source": [
    "The grafic above shows the varation of the average price over the years.\n",
    "# Under assumption same offering on the market"
   ]
  },
  {
   "cell_type": "markdown",
   "metadata": {},
   "source": [
    "Next the property types will be evaluated."
   ]
  },
  {
   "cell_type": "code",
   "execution_count": 15,
   "metadata": {},
   "outputs": [
    {
     "data": {
      "text/plain": [
       "propType\n",
       "acreage                     10\n",
       "duplex/semi-detached      5691\n",
       "house                   139422\n",
       "other                      146\n",
       "terrace                    696\n",
       "townhouse                12758\n",
       "villa                     4199\n",
       "warehouse                   18\n",
       "Name: propType, dtype: int64"
      ]
     },
     "execution_count": 15,
     "metadata": {},
     "output_type": "execute_result"
    }
   ],
   "source": [
    "data_filtered.groupby(\"propType\")[\"propType\"].count()"
   ]
  },
  {
   "cell_type": "markdown",
   "metadata": {},
   "source": [
    "As mentioned before the client is manly interessted in selling housing to people who will actually move in to the property. Therefor warehouses and acreage can be removed as they are not important for this business goal. In addition to this the category other will be removed. THis leaves the property types \"duplex/semi-detached\",\"house\",\"townhouse\",\"villa\", \"terrace\"."
   ]
  },
  {
   "cell_type": "code",
   "execution_count": 16,
   "metadata": {},
   "outputs": [],
   "source": [
    "data_filtered = data_filtered[data_filtered[\"propType\"].isin([\"duplex/semi-detached\",\"house\",\"townhouse\",\"villa\", \"terrace\"])]"
   ]
  },
  {
   "cell_type": "markdown",
   "metadata": {},
   "source": [
    "As a last step the location will be taken into consideration. Location is most likely one key factor of the price of housing. There are two possible features that can be used to take this into consideration. Option one is to use the suburb. The problem here is that there are 669 unique suburbs in the dataset. This is most likely to fine in granularity. Therefor two datasets will be generated. One with the raw suburbs as input and one with the suburbs clustered with the average number of bedrooms, bathrooms and average price of the suburb. The second option from the dataset is to use teh ZIP code. This however is not as fine in granularity and therefor most likely not as well suited for this analysis. ZIP codes will be dropped later."
   ]
  },
  {
   "cell_type": "code",
   "execution_count": 17,
   "metadata": {},
   "outputs": [],
   "source": [
    "\n",
    "data_all_suburbs = pd.get_dummies(data_filtered,drop_first=True, columns=[\"propType\",\"suburb\"])\n",
    "data_all_suburbs_final = data_all_suburbs.dropna(how=\"any\")"
   ]
  },
  {
   "cell_type": "code",
   "execution_count": 18,
   "metadata": {},
   "outputs": [
    {
     "data": {
      "text/plain": [
       "(162766, 677)"
      ]
     },
     "execution_count": 18,
     "metadata": {},
     "output_type": "execute_result"
    }
   ],
   "source": [
    "data_all_suburbs_final.shape"
   ]
  },
  {
   "cell_type": "markdown",
   "metadata": {},
   "source": [
    "This is the first dataset for experimentation with all suburbs as dummy and all the NA values removed, resulting in a dataset with 162,766 properties for the models to train on. It is made up of 677 features."
   ]
  },
  {
   "cell_type": "code",
   "execution_count": 19,
   "metadata": {},
   "outputs": [
    {
     "name": "stderr",
     "output_type": "stream",
     "text": [
      "/var/folders/yy/_cw27tn144d2ztdvqlwsqwt00000gp/T/ipykernel_41761/33837120.py:1: FutureWarning: Indexing with multiple keys (implicitly converted to a tuple of keys) will be deprecated, use a list instead.\n",
      "  suburbs = data_filtered.groupby(\"suburb\")[\"sellPrice\", \"bed\", \"bath\"].mean()\n"
     ]
    }
   ],
   "source": [
    "suburbs = data_filtered.groupby(\"suburb\")[\"sellPrice\", \"bed\", \"bath\"].mean()"
   ]
  },
  {
   "cell_type": "code",
   "execution_count": 20,
   "metadata": {},
   "outputs": [],
   "source": [
    "from sklearn.preprocessing import MinMaxScaler\n",
    "from sklearn.cluster import k_means\n",
    "scaler = MinMaxScaler()\n",
    "X = scaler.fit_transform(suburbs)\n",
    "Y = k_means(X,n_clusters=20, random_state = 42)"
   ]
  },
  {
   "cell_type": "code",
   "execution_count": 21,
   "metadata": {},
   "outputs": [],
   "source": [
    "suburbs[\"cluster\"] = Y[1]"
   ]
  },
  {
   "cell_type": "code",
   "execution_count": 22,
   "metadata": {},
   "outputs": [],
   "source": [
    "suburbs = suburbs.reset_index()"
   ]
  },
  {
   "cell_type": "code",
   "execution_count": 23,
   "metadata": {},
   "outputs": [],
   "source": [
    "suburbs.drop([\"sellPrice\", \"bed\", \"bath\"], axis=1, inplace=True)"
   ]
  },
  {
   "cell_type": "code",
   "execution_count": 24,
   "metadata": {},
   "outputs": [],
   "source": [
    "data_clustered_suburbs = data_filtered.merge(suburbs, on=\"suburb\")"
   ]
  },
  {
   "cell_type": "code",
   "execution_count": 25,
   "metadata": {},
   "outputs": [],
   "source": [
    "data_clustered_suburbs.drop([\"Date\",\"Id\",\"suburb\", \"postalCode\", \"year\"], axis=1,inplace=True)\n"
   ]
  },
  {
   "cell_type": "code",
   "execution_count": 26,
   "metadata": {},
   "outputs": [],
   "source": [
    "data_clustered_suburbs_final = pd.get_dummies(data_clustered_suburbs,drop_first=True, columns=[\"propType\",\"cluster\"] )"
   ]
  },
  {
   "cell_type": "code",
   "execution_count": 90,
   "metadata": {},
   "outputs": [],
   "source": [
    "data_clustered_suburbs_final"
   ]
  },
  {
   "cell_type": "markdown",
   "metadata": {},
   "source": [
    "# Clustered Data "
   ]
  },
  {
   "cell_type": "markdown",
   "metadata": {},
   "source": [
    "## Baseline"
   ]
  },
  {
   "cell_type": "markdown",
   "metadata": {},
   "source": [
    "# Split train test muss noch ergänzt werden"
   ]
  },
  {
   "cell_type": "code",
   "execution_count": 91,
   "metadata": {},
   "outputs": [],
   "source": [
    "from sklearn.metrics import mean_squared_error, mean_absolute_error, mean_absolute_percentage_error\n",
    "from sklearn.model_selection import train_test_split\n",
    "import math"
   ]
  },
  {
   "cell_type": "code",
   "execution_count": 92,
   "metadata": {},
   "outputs": [],
   "source": [
    "Results = []"
   ]
  },
  {
   "cell_type": "code",
   "execution_count": 93,
   "metadata": {},
   "outputs": [],
   "source": [
    "y_1 = data_clustered_suburbs_final[\"sellPrice\"]\n",
    "X_1 = data_clustered_suburbs_final.drop([\"sellPrice\"], axis=1)\n",
    "X_1_train, X_1_test, y_1_train, y_1_test = train_test_split(X_1, y_1, test_size=0.2, random_state = 42, shuffle=True)\n"
   ]
  },
  {
   "cell_type": "code",
   "execution_count": 94,
   "metadata": {},
   "outputs": [],
   "source": [
    "Y = pd.DataFrame(y_1_test)\n",
    "avgSellPrice = y_1_train.mean()\n",
    "Y[\"avgSellPrice\"] = avgSellPrice"
   ]
  },
  {
   "cell_type": "code",
   "execution_count": 95,
   "metadata": {},
   "outputs": [],
   "source": [
    "RMSE = math.sqrt(mean_squared_error(Y[\"sellPrice\"],Y[\"avgSellPrice\"]))\n",
    "MAE = mean_absolute_error(Y[\"sellPrice\"],Y[\"avgSellPrice\"])\n",
    "MAPE = mean_absolute_percentage_error(Y[\"sellPrice\"],Y[\"avgSellPrice\"])\n"
   ]
  },
  {
   "cell_type": "code",
   "execution_count": 96,
   "metadata": {},
   "outputs": [],
   "source": [
    "Results.append({\"name\":\"baseline\",\"scores\":{\"RMSE\":RMSE,\"MAE\":MAE,\"MAPE\":MAPE}})"
   ]
  },
  {
   "cell_type": "code",
   "execution_count": 97,
   "metadata": {},
   "outputs": [
    {
     "name": "stdout",
     "output_type": "stream",
     "text": [
      "[{'name': 'baseline', 'scores': {'RMSE': 641322.4107369833, 'MAE': 486128.33970587794, 'MAPE': 0.45066580547305596}}]\n"
     ]
    }
   ],
   "source": [
    "print(Results)"
   ]
  },
  {
   "cell_type": "markdown",
   "metadata": {},
   "source": [
    "## Machine Learning "
   ]
  },
  {
   "cell_type": "code",
   "execution_count": 98,
   "metadata": {},
   "outputs": [
    {
     "name": "stdout",
     "output_type": "stream",
     "text": [
      "/Users/FHKrieg/Projekte/jovyan/DeepLearningExperiment\n"
     ]
    }
   ],
   "source": [
    "# For jupyterserver to load the pipeline\n",
    "import os\n",
    "import sys\n",
    "module_path = os.path.abspath(os.path.join('..')) + \"/jovyan/DeepLearningExperiment\"\n",
    "print(module_path)\n",
    "if module_path not in sys.path:\n",
    "    sys.path.append(module_path)"
   ]
  },
  {
   "cell_type": "code",
   "execution_count": 99,
   "metadata": {},
   "outputs": [],
   "source": [
    "from Pipline import Pipeline\n",
    "from sklearn.linear_model import LinearRegression\n",
    "from sklearn.ensemble import RandomForestRegressor"
   ]
  },
  {
   "cell_type": "code",
   "execution_count": 37,
   "metadata": {},
   "outputs": [
    {
     "name": "stdout",
     "output_type": "stream",
     "text": [
      "\n",
      "\n",
      "Radom Forrest\n",
      "-----------------\n",
      "RMSE: 350150.9121200248\n",
      "MAE: 230333.6702140713\n",
      "The best results achieved with parameters: {'criterion': 'squared_error', 'max_depth': 100}\n",
      "Time: 182 seconds (3 minutes)\n"
     ]
    },
    {
     "name": "stderr",
     "output_type": "stream",
     "text": [
      "/opt/homebrew/anaconda3/envs/torch-nightly/lib/python3.8/site-packages/seaborn/_decorators.py:36: FutureWarning: Pass the following variables as keyword args: x, y. From version 0.12, the only valid positional argument will be `data`, and passing other arguments without an explicit keyword will result in an error or misinterpretation.\n",
      "  warnings.warn(\n"
     ]
    },
    {
     "data": {
      "image/png": "[encoded data removed]",
      "text/plain": [
       "<Figure size 432x288 with 1 Axes>"
      ]
     },
     "metadata": {
      "needs_background": "light"
     },
     "output_type": "display_data"
    },
    {
     "name": "stdout",
     "output_type": "stream",
     "text": [
      "\n",
      "\n",
      "LinearRegression\n",
      "-----------------\n",
      "RMSE: 370111.50137377874\n",
      "MAE: 260835.87298292347\n",
      "The best results achieved with parameters: {}\n",
      "Time: 2 seconds (0 minutes)\n"
     ]
    },
    {
     "name": "stderr",
     "output_type": "stream",
     "text": [
      "/opt/homebrew/anaconda3/envs/torch-nightly/lib/python3.8/site-packages/seaborn/_decorators.py:36: FutureWarning: Pass the following variables as keyword args: x, y. From version 0.12, the only valid positional argument will be `data`, and passing other arguments without an explicit keyword will result in an error or misinterpretation.\n",
      "  warnings.warn(\n"
     ]
    },
    {
     "data": {
      "image/png": "[encoded data removed]",
      "text/plain": [
       "<Figure size 432x288 with 1 Axes>"
      ]
     },
     "metadata": {
      "needs_background": "light"
     },
     "output_type": "display_data"
    }
   ],
   "source": [
    "pipe1 = Pipeline(False,3,5)\n",
    "experiments = [{\"name\":\"Radom Forrest\",\n",
    "    \"model\":RandomForestRegressor(n_jobs=-1),\n",
    "    \"parameters\":{\n",
    "        \"criterion\":[\"squared_error\"],\n",
    "        \"max_depth\":[30,80,100,200,300]\n",
    "    }},\n",
    "    {\"name\":\"LinearRegression\",\n",
    "    \"model\":LinearRegression(n_jobs=-1),\n",
    "    \"parameters\":{\n",
    "    }}]\n",
    "resultsML = pipe1.run_experiments_float(experiments,X=X_1_train,Y=y_1_train,Scaler=MinMaxScaler(), scoring=\"neg_mean_squared_error\")"
   ]
  },
  {
   "cell_type": "markdown",
   "metadata": {},
   "source": [
    "Model 1 best -> chooseb from resultsML[0]"
   ]
  },
  {
   "cell_type": "code",
   "execution_count": 38,
   "metadata": {},
   "outputs": [],
   "source": [
    "X_1_test_ML_scaled = resultsML[0][\"scaler\"].transform(X_1_test)\n",
    "y_hat = resultsML[0][\"trained_model\"].predict(X_1_test_ML_scaled)\n",
    "RMSE = math.sqrt(mean_squared_error(y_1_test,y_hat))\n",
    "MAE = mean_absolute_error(y_1_test,y_hat)\n",
    "MAPE = mean_absolute_percentage_error(y_1_test,y_hat)\n",
    "Results.append({\"name\":resultsML[0][\"name\"],\"scores\":{\"RMSE\":RMSE,\"MAE\":MAE,\"MAPE\":MAPE}})"
   ]
  },
  {
   "cell_type": "code",
   "execution_count": 39,
   "metadata": {},
   "outputs": [
    {
     "name": "stdout",
     "output_type": "stream",
     "text": [
      "[{'name': 'baseline', 'scores': {'RMSE': 641322.4107369833, 'MAE': 486128.33970587794, 'MAPE': 0.45066580547305596}}, {'name': 'Radom Forrest', 'scores': {'RMSE': 347512.29972230375, 'MAE': 228352.75990687837, 'MAPE': 0.18006788992231745}}]\n"
     ]
    }
   ],
   "source": [
    "print(Results)"
   ]
  },
  {
   "cell_type": "markdown",
   "metadata": {},
   "source": [
    "## Neuronales Netz"
   ]
  },
  {
   "cell_type": "markdown",
   "metadata": {},
   "source": [
    "## Add scaling to the y value"
   ]
  },
  {
   "cell_type": "code",
   "execution_count": 100,
   "metadata": {},
   "outputs": [],
   "source": [
    "import torch\n",
    "import copy\n",
    "#for M1 gpu acceleration\n",
    "device = torch.device(\"mps\")"
   ]
  },
  {
   "cell_type": "markdown",
   "metadata": {},
   "source": [
    "In the following section the data will be prepared so it can be inserted into the neural network."
   ]
  },
  {
   "cell_type": "code",
   "execution_count": 101,
   "metadata": {},
   "outputs": [],
   "source": [
    "# TODO datapreparation for y and x val and train \n",
    "y_scaler = MinMaxScaler()\n",
    "scaler = MinMaxScaler()\n",
    "#shuffle not needed here as the data has been shuffled when the data was split in the first place\n",
    "NN_X_1_train, NN_X_1_val, NN_y_1_train, NN_y_1_val= train_test_split(X_1_train, y_1_train, test_size = 0.2)\n",
    "NN_X_1_train_scaled = scaler.fit_transform(NN_X_1_train)\n",
    "NN_X_1_val_scaled = scaler.transform(NN_X_1_val)\n",
    "NN_X_1_test_scaled = scaler.transform(X_1_test)\n",
    "NN_y_1_train_scaled = y_scaler.fit_transform(NN_y_1_train.to_numpy().reshape(-1, 1))\n",
    "NN_y_1_val_scaled = y_scaler.transform(NN_y_1_val.to_numpy().reshape(-1, 1))\n",
    "#Generation of the Tensors that will be used for the training and prediciton \n",
    "NN_X_1_train_scaled_tensor = torch.Tensor(NN_X_1_train_scaled).to(device)\n",
    "NN_X_1_val_scaled_tensor = torch.Tensor(NN_X_1_val_scaled).to(device)\n",
    "NN_X_1_test_scaled_tensor = torch.Tensor(NN_X_1_test_scaled).to(device)\n",
    "NN_y_1_train_tensor = torch.Tensor(NN_y_1_train_scaled).to(device)\n",
    "NN_y_1_val_tensor = torch.Tensor(NN_y_1_val_scaled).to(device)"
   ]
  },
  {
   "cell_type": "code",
   "execution_count": 102,
   "metadata": {},
   "outputs": [
    {
     "data": {
      "text/plain": [
       "3"
      ]
     },
     "execution_count": 102,
     "metadata": {},
     "output_type": "execute_result"
    }
   ],
   "source": [
    "NN_X_1_train_scaled_tensor.shape[1]"
   ]
  },
  {
   "cell_type": "code",
   "execution_count": 103,
   "metadata": {},
   "outputs": [],
   "source": [
    "from NeuralNets import NN_512_5, NN_128_3, NN_64_2\n",
    "\n",
    "\n"
   ]
  },
  {
   "cell_type": "code",
   "execution_count": null,
   "metadata": {},
   "outputs": [],
   "source": []
  },
  {
   "cell_type": "code",
   "execution_count": 104,
   "metadata": {},
   "outputs": [
    {
     "data": {
      "text/plain": [
       "NN_64_2_T(\n",
       "  (hidden_1): Linear(in_features=3, out_features=32, bias=True)\n",
       "  (output): Linear(in_features=32, out_features=1, bias=True)\n",
       ")"
      ]
     },
     "execution_count": 104,
     "metadata": {},
     "output_type": "execute_result"
    }
   ],
   "source": [
    "#Model initialization with random seed directly on top to guarantee it is applied in the same way to all models\n",
    "torch.manual_seed(42)\n",
    "TestModel = NN_64_2_T(NN_X_1_train_scaled_tensor.shape[1])\n",
    "TestModel.to(device=device)"
   ]
  },
  {
   "cell_type": "code",
   "execution_count": 105,
   "metadata": {},
   "outputs": [],
   "source": [
    "def Grid_Search_NN(model_train, parameters, y_train,y_val, y_train_tensor_scaled,y_val_tensor_scaled,X_train_tensor,X_val_tensor, y_scaler, epochs):\n",
    "    \n",
    "\n",
    "    #https://stackoverflow.com/questions/38721847/how-to-generate-all-combination-from-values-in-dict-of-lists-in-python\n",
    "    keys, values = zip(*parameters.items())\n",
    "    permutations_dicts = [dict(zip(keys, v)) for v in itertools.product(*values)]\n",
    "\n",
    "    best_rmse=float('inf')\n",
    "\n",
    "    #here the for loop\n",
    "    for combination in permutations_dicts:\n",
    "        model = copy.deepcopy(model_train)\n",
    "        if combination[\"optimizer\"] == \"Adam\":\n",
    "            optimizer = torch.optim.Adam(model.parameters(), lr=combination[\"learning_rate\"])\n",
    "        elif combination[\"optimizer\"] == \"SGD\":\n",
    "            optimizer = torch.optim.SGD(model.parameters(), lr=combination[\"learning_rate\"])\n",
    "        else:\n",
    "            print(\"Invalid Optimizer using ADAM instead\")\n",
    "            optimizer = torch.optim.Adam(model.parameters(), lr=combination[\"learning_rate\"])\n",
    "        criterion = combination[\"criterion\"]\n",
    "        print(\"---------------------------------------------------\")\n",
    "        print(\"Now training the model with the following parameteres:\")\n",
    "        for key, value in combination.items():\n",
    "            print(f\"{key} = {value}\")\n",
    "        print()\n",
    "        print()\n",
    "        best_rmse_val, best_loss_val, best_model, best_epoch, loss_train, loss_val = training_the_model(model,y_train,y_val, y_train_tensor_scaled,y_val_tensor_scaled,X_train_tensor,X_val_tensor, optimizer, criterion, y_scaler, epochs)\n",
    "        if best_rmse_val< best_rmse:\n",
    "            best_rmse = best_rmse_val\n",
    "            best_loss=best_loss_val\n",
    "            best_model_CV = best_model\n",
    "            best_epoch_CV=best_epoch\n",
    "            best_params = combination\n",
    "            loss_train_best = loss_train\n",
    "            loss_val_best = loss_val\n",
    "    # TODO create print out with the scores and so on\n",
    "    return {\n",
    "        \"best_rmse\": best_rmse,\n",
    "        \"best_loss\": best_loss,\n",
    "        \"best_model_CV\": best_model_CV,\n",
    "        \"best_epoch_CV\": best_epoch_CV,\n",
    "        \"best_params\": best_params,\n",
    "        \"loss_train_best\": loss_train_best,\n",
    "        \"loss_val_best\": loss_val_best\n",
    "    }\n",
    "            "
   ]
  },
  {
   "cell_type": "code",
   "execution_count": 106,
   "metadata": {},
   "outputs": [],
   "source": [
    "# TODO build early stop function"
   ]
  },
  {
   "cell_type": "code",
   "execution_count": 107,
   "metadata": {},
   "outputs": [],
   "source": [
    "def training_the_model(model,y_train,y_val, y_train_tensor_scaled,y_val_tensor_scaled,X_train_tensor,X_val_tensor, optimizer, criterion, y_scaler, epochs):\n",
    "    #Aus dem Kurs angepasst\n",
    "    best_rmse_val=float('inf')\n",
    "    best_loss_val=float('inf')\n",
    "    best_model=copy.deepcopy(model)\n",
    "    best_epoch=0\n",
    "    loss_train = []\n",
    "    loss_val = []\n",
    "    #Aus dem Kurs\n",
    "    \n",
    "    for epoch in range(epochs):\n",
    "        model.train()\n",
    "        y_train_pred = model(X_train_tensor)\n",
    "\n",
    "        optimizer.zero_grad()\n",
    "        loss_train_c = criterion(y_train_pred, y_train_tensor_scaled)\n",
    "\n",
    "        loss_train_c.backward()\n",
    "        \n",
    "        optimizer.step()\n",
    "        \n",
    "        model.eval()\n",
    "        with torch.no_grad():\n",
    "            y_val_pred = model(X_val_tensor)\n",
    "            loss_val_c=criterion(y_val_pred, y_val_tensor_scaled)\n",
    "            rmse_train = mean_squared_error(y_train, y_scaler.inverse_transform(y_train_pred.cpu()))\n",
    "            rmse_val= mean_squared_error(y_val, y_scaler.inverse_transform(y_val_pred.cpu()))\n",
    "            loss_train.append(rmse_train)\n",
    "            loss_val.append(rmse_val)\n",
    "            if rmse_val< best_rmse_val:\n",
    "                best_rmse_val = rmse_val\n",
    "                best_loss_val=loss_val_c.item()\n",
    "                best_model = copy.deepcopy(model)\n",
    "                best_epoch=epoch\n",
    "\n",
    "        #if (epoch % 50==49):\n",
    "        print(\"Epoch: %d, loss in training: %1.5f loss in val: %1.5f\" % (epoch, loss_train_c.item(), loss_val_c.item()))\n",
    "    return best_rmse_val, best_loss_val, best_model, best_epoch, loss_train, loss_val"
   ]
  },
  {
   "cell_type": "markdown",
   "metadata": {},
   "source": [
    "Define the parameters that should be tried"
   ]
  },
  {
   "cell_type": "code",
   "execution_count": 108,
   "metadata": {},
   "outputs": [],
   "source": [
    "NN_experiments = {\n",
    "    \"parameters\": {\n",
    "        \"learning_rate\":[0.01],#, 0.05],\n",
    "        \"criterion\":[ torch.nn.L1Loss()], #torch.nn.MSELoss(),\n",
    "        \"optimizer\":[\"Adam\"]#, \"SGD\"]    \n",
    "    }\n",
    "}"
   ]
  },
  {
   "cell_type": "markdown",
   "metadata": {},
   "source": [
    "L1 = Mean absolute error"
   ]
  },
  {
   "cell_type": "code",
   "execution_count": 109,
   "metadata": {},
   "outputs": [],
   "source": [
    "# run model 1 and than use test data to evaluate"
   ]
  },
  {
   "cell_type": "code",
   "execution_count": 110,
   "metadata": {},
   "outputs": [
    {
     "name": "stdout",
     "output_type": "stream",
     "text": [
      "---------------------------------------------------\n",
      "Now training the model with the following parameteres:\n",
      "learning_rate = 0.01\n",
      "criterion = L1Loss()\n",
      "optimizer = Adam\n",
      "\n",
      "\n",
      "Epoch: 0, loss in training: 0.16841 loss in val: 0.13535\n",
      "Epoch: 1, loss in training: 0.13566 loss in val: 0.16052\n",
      "Epoch: 2, loss in training: 0.16058 loss in val: 0.13748\n",
      "Epoch: 3, loss in training: 0.13772 loss in val: 0.13355\n",
      "Epoch: 4, loss in training: 0.13412 loss in val: 0.14277\n",
      "Epoch: 5, loss in training: 0.14330 loss in val: 0.14585\n",
      "Epoch: 6, loss in training: 0.14637 loss in val: 0.13995\n",
      "Epoch: 7, loss in training: 0.14052 loss in val: 0.13322\n",
      "Epoch: 8, loss in training: 0.13380 loss in val: 0.13284\n",
      "Epoch: 9, loss in training: 0.13328 loss in val: 0.13840\n",
      "Epoch: 10, loss in training: 0.13861 loss in val: 0.13964\n",
      "Epoch: 11, loss in training: 0.13982 loss in val: 0.13482\n",
      "Epoch: 12, loss in training: 0.13516 loss in val: 0.13190\n",
      "Epoch: 13, loss in training: 0.13241 loss in val: 0.13314\n",
      "Epoch: 14, loss in training: 0.13374 loss in val: 0.13553\n",
      "Epoch: 15, loss in training: 0.13615 loss in val: 0.13602\n",
      "Epoch: 16, loss in training: 0.13664 loss in val: 0.13422\n",
      "Epoch: 17, loss in training: 0.13485 loss in val: 0.13216\n",
      "Epoch: 18, loss in training: 0.13276 loss in val: 0.13187\n",
      "Epoch: 19, loss in training: 0.13239 loss in val: 0.13347\n",
      "Epoch: 20, loss in training: 0.13387 loss in val: 0.13444\n",
      "Epoch: 21, loss in training: 0.13480 loss in val: 0.13327\n",
      "Epoch: 22, loss in training: 0.13369 loss in val: 0.13181\n",
      "Epoch: 23, loss in training: 0.13234 loss in val: 0.13173\n",
      "Epoch: 24, loss in training: 0.13234 loss in val: 0.13253\n",
      "Epoch: 25, loss in training: 0.13316 loss in val: 0.13299\n",
      "Epoch: 26, loss in training: 0.13363 loss in val: 0.13258\n",
      "Epoch: 27, loss in training: 0.13322 loss in val: 0.13179\n",
      "Epoch: 28, loss in training: 0.13242 loss in val: 0.13150\n",
      "Epoch: 29, loss in training: 0.13208 loss in val: 0.13198\n",
      "Epoch: 30, loss in training: 0.13249 loss in val: 0.13246\n",
      "Epoch: 31, loss in training: 0.13294 loss in val: 0.13220\n",
      "Epoch: 32, loss in training: 0.13270 loss in val: 0.13161\n",
      "Epoch: 33, loss in training: 0.13217 loss in val: 0.13144\n",
      "Epoch: 34, loss in training: 0.13206 loss in val: 0.13169\n",
      "Epoch: 35, loss in training: 0.13234 loss in val: 0.13189\n",
      "Epoch: 36, loss in training: 0.13255 loss in val: 0.13175\n",
      "Epoch: 37, loss in training: 0.13240 loss in val: 0.13146\n",
      "Epoch: 38, loss in training: 0.13211 loss in val: 0.13139\n",
      "Epoch: 39, loss in training: 0.13200 loss in val: 0.13162\n",
      "Epoch: 40, loss in training: 0.13218 loss in val: 0.13179\n",
      "Epoch: 41, loss in training: 0.13233 loss in val: 0.13164\n",
      "Epoch: 42, loss in training: 0.13220 loss in val: 0.13140\n",
      "Epoch: 43, loss in training: 0.13201 loss in val: 0.13137\n",
      "Epoch: 44, loss in training: 0.13201 loss in val: 0.13147\n",
      "Epoch: 45, loss in training: 0.13213 loss in val: 0.13151\n",
      "Epoch: 46, loss in training: 0.13218 loss in val: 0.13143\n",
      "Epoch: 47, loss in training: 0.13209 loss in val: 0.13134\n",
      "Epoch: 48, loss in training: 0.13199 loss in val: 0.13137\n",
      "Epoch: 49, loss in training: 0.13199 loss in val: 0.13147\n",
      "Epoch: 50, loss in training: 0.13207 loss in val: 0.13149\n",
      "Epoch: 51, loss in training: 0.13208 loss in val: 0.13140\n",
      "Epoch: 52, loss in training: 0.13201 loss in val: 0.13133\n",
      "Epoch: 53, loss in training: 0.13197 loss in val: 0.13134\n",
      "Epoch: 54, loss in training: 0.13200 loss in val: 0.13137\n",
      "Epoch: 55, loss in training: 0.13204 loss in val: 0.13137\n",
      "Epoch: 56, loss in training: 0.13203 loss in val: 0.13133\n",
      "Epoch: 57, loss in training: 0.13198 loss in val: 0.13133\n",
      "Epoch: 58, loss in training: 0.13197 loss in val: 0.13137\n",
      "Epoch: 59, loss in training: 0.13199 loss in val: 0.13140\n",
      "Epoch: 60, loss in training: 0.13201 loss in val: 0.13137\n",
      "Epoch: 61, loss in training: 0.13199 loss in val: 0.13133\n",
      "Epoch: 62, loss in training: 0.13197 loss in val: 0.13132\n",
      "Epoch: 63, loss in training: 0.13197 loss in val: 0.13133\n",
      "Epoch: 64, loss in training: 0.13199 loss in val: 0.13133\n",
      "Epoch: 65, loss in training: 0.13199 loss in val: 0.13132\n",
      "Epoch: 66, loss in training: 0.13198 loss in val: 0.13132\n",
      "Epoch: 67, loss in training: 0.13196 loss in val: 0.13134\n",
      "Epoch: 68, loss in training: 0.13197 loss in val: 0.13136\n",
      "Epoch: 69, loss in training: 0.13198 loss in val: 0.13135\n",
      "Epoch: 70, loss in training: 0.13198 loss in val: 0.13134\n",
      "Epoch: 71, loss in training: 0.13197 loss in val: 0.13132\n",
      "Epoch: 72, loss in training: 0.13196 loss in val: 0.13132\n",
      "Epoch: 73, loss in training: 0.13197 loss in val: 0.13132\n",
      "Epoch: 74, loss in training: 0.13198 loss in val: 0.13132\n",
      "Epoch: 75, loss in training: 0.13197 loss in val: 0.13132\n",
      "Epoch: 76, loss in training: 0.13196 loss in val: 0.13133\n",
      "Epoch: 77, loss in training: 0.13197 loss in val: 0.13134\n",
      "Epoch: 78, loss in training: 0.13197 loss in val: 0.13134\n",
      "Epoch: 79, loss in training: 0.13197 loss in val: 0.13133\n",
      "Epoch: 80, loss in training: 0.13197 loss in val: 0.13132\n",
      "Epoch: 81, loss in training: 0.13196 loss in val: 0.13132\n",
      "Epoch: 82, loss in training: 0.13197 loss in val: 0.13132\n",
      "Epoch: 83, loss in training: 0.13197 loss in val: 0.13132\n",
      "Epoch: 84, loss in training: 0.13197 loss in val: 0.13132\n",
      "Epoch: 85, loss in training: 0.13196 loss in val: 0.13133\n",
      "Epoch: 86, loss in training: 0.13197 loss in val: 0.13133\n",
      "Epoch: 87, loss in training: 0.13197 loss in val: 0.13133\n",
      "Epoch: 88, loss in training: 0.13197 loss in val: 0.13132\n",
      "Epoch: 89, loss in training: 0.13196 loss in val: 0.13132\n",
      "Epoch: 90, loss in training: 0.13196 loss in val: 0.13132\n",
      "Epoch: 91, loss in training: 0.13197 loss in val: 0.13132\n",
      "Epoch: 92, loss in training: 0.13197 loss in val: 0.13132\n",
      "Epoch: 93, loss in training: 0.13196 loss in val: 0.13133\n",
      "Epoch: 94, loss in training: 0.13196 loss in val: 0.13133\n",
      "Epoch: 95, loss in training: 0.13196 loss in val: 0.13133\n",
      "Epoch: 96, loss in training: 0.13196 loss in val: 0.13133\n",
      "Epoch: 97, loss in training: 0.13196 loss in val: 0.13132\n",
      "Epoch: 98, loss in training: 0.13196 loss in val: 0.13132\n",
      "Epoch: 99, loss in training: 0.13196 loss in val: 0.13132\n",
      "Epoch: 100, loss in training: 0.13196 loss in val: 0.13132\n",
      "Epoch: 101, loss in training: 0.13196 loss in val: 0.13132\n",
      "Epoch: 102, loss in training: 0.13196 loss in val: 0.13133\n",
      "Epoch: 103, loss in training: 0.13196 loss in val: 0.13133\n",
      "Epoch: 104, loss in training: 0.13196 loss in val: 0.13133\n",
      "Epoch: 105, loss in training: 0.13196 loss in val: 0.13133\n",
      "Epoch: 106, loss in training: 0.13196 loss in val: 0.13132\n",
      "Epoch: 107, loss in training: 0.13196 loss in val: 0.13132\n",
      "Epoch: 108, loss in training: 0.13196 loss in val: 0.13132\n",
      "Epoch: 109, loss in training: 0.13196 loss in val: 0.13133\n",
      "Epoch: 110, loss in training: 0.13196 loss in val: 0.13133\n",
      "Epoch: 111, loss in training: 0.13196 loss in val: 0.13133\n",
      "Epoch: 112, loss in training: 0.13196 loss in val: 0.13133\n",
      "Epoch: 113, loss in training: 0.13196 loss in val: 0.13133\n",
      "Epoch: 114, loss in training: 0.13196 loss in val: 0.13132\n",
      "Epoch: 115, loss in training: 0.13196 loss in val: 0.13132\n",
      "Epoch: 116, loss in training: 0.13196 loss in val: 0.13133\n",
      "Epoch: 117, loss in training: 0.13196 loss in val: 0.13133\n",
      "Epoch: 118, loss in training: 0.13196 loss in val: 0.13133\n",
      "Epoch: 119, loss in training: 0.13196 loss in val: 0.13133\n",
      "Epoch: 120, loss in training: 0.13196 loss in val: 0.13133\n",
      "Epoch: 121, loss in training: 0.13196 loss in val: 0.13133\n",
      "Epoch: 122, loss in training: 0.13196 loss in val: 0.13133\n",
      "Epoch: 123, loss in training: 0.13196 loss in val: 0.13133\n",
      "Epoch: 124, loss in training: 0.13196 loss in val: 0.13133\n",
      "Epoch: 125, loss in training: 0.13196 loss in val: 0.13133\n",
      "Epoch: 126, loss in training: 0.13196 loss in val: 0.13133\n",
      "Epoch: 127, loss in training: 0.13196 loss in val: 0.13133\n",
      "Epoch: 128, loss in training: 0.13196 loss in val: 0.13133\n",
      "Epoch: 129, loss in training: 0.13196 loss in val: 0.13133\n",
      "Epoch: 130, loss in training: 0.13196 loss in val: 0.13133\n",
      "Epoch: 131, loss in training: 0.13196 loss in val: 0.13133\n",
      "Epoch: 132, loss in training: 0.13196 loss in val: 0.13133\n",
      "Epoch: 133, loss in training: 0.13196 loss in val: 0.13133\n",
      "Epoch: 134, loss in training: 0.13196 loss in val: 0.13133\n",
      "Epoch: 135, loss in training: 0.13196 loss in val: 0.13133\n",
      "Epoch: 136, loss in training: 0.13196 loss in val: 0.13133\n",
      "Epoch: 137, loss in training: 0.13196 loss in val: 0.13133\n",
      "Epoch: 138, loss in training: 0.13196 loss in val: 0.13133\n",
      "Epoch: 139, loss in training: 0.13196 loss in val: 0.13133\n",
      "Epoch: 140, loss in training: 0.13196 loss in val: 0.13133\n",
      "Epoch: 141, loss in training: 0.13196 loss in val: 0.13133\n",
      "Epoch: 142, loss in training: 0.13196 loss in val: 0.13133\n",
      "Epoch: 143, loss in training: 0.13196 loss in val: 0.13133\n",
      "Epoch: 144, loss in training: 0.13196 loss in val: 0.13133\n",
      "Epoch: 145, loss in training: 0.13196 loss in val: 0.13133\n",
      "Epoch: 146, loss in training: 0.13196 loss in val: 0.13133\n",
      "Epoch: 147, loss in training: 0.13196 loss in val: 0.13133\n",
      "Epoch: 148, loss in training: 0.13196 loss in val: 0.13133\n",
      "Epoch: 149, loss in training: 0.13196 loss in val: 0.13133\n",
      "Epoch: 150, loss in training: 0.13196 loss in val: 0.13133\n",
      "Epoch: 151, loss in training: 0.13196 loss in val: 0.13133\n",
      "Epoch: 152, loss in training: 0.13196 loss in val: 0.13133\n",
      "Epoch: 153, loss in training: 0.13196 loss in val: 0.13133\n",
      "Epoch: 154, loss in training: 0.13196 loss in val: 0.13133\n",
      "Epoch: 155, loss in training: 0.13196 loss in val: 0.13133\n",
      "Epoch: 156, loss in training: 0.13196 loss in val: 0.13133\n",
      "Epoch: 157, loss in training: 0.13196 loss in val: 0.13133\n",
      "Epoch: 158, loss in training: 0.13196 loss in val: 0.13133\n",
      "Epoch: 159, loss in training: 0.13196 loss in val: 0.13133\n",
      "Epoch: 160, loss in training: 0.13196 loss in val: 0.13133\n",
      "Epoch: 161, loss in training: 0.13196 loss in val: 0.13133\n",
      "Epoch: 162, loss in training: 0.13196 loss in val: 0.13133\n",
      "Epoch: 163, loss in training: 0.13196 loss in val: 0.13133\n",
      "Epoch: 164, loss in training: 0.13196 loss in val: 0.13133\n",
      "Epoch: 165, loss in training: 0.13196 loss in val: 0.13133\n",
      "Epoch: 166, loss in training: 0.13196 loss in val: 0.13133\n",
      "Epoch: 167, loss in training: 0.13196 loss in val: 0.13133\n",
      "Epoch: 168, loss in training: 0.13196 loss in val: 0.13133\n",
      "Epoch: 169, loss in training: 0.13196 loss in val: 0.13133\n",
      "Epoch: 170, loss in training: 0.13196 loss in val: 0.13133\n",
      "Epoch: 171, loss in training: 0.13196 loss in val: 0.13133\n",
      "Epoch: 172, loss in training: 0.13196 loss in val: 0.13133\n",
      "Epoch: 173, loss in training: 0.13196 loss in val: 0.13133\n",
      "Epoch: 174, loss in training: 0.13196 loss in val: 0.13133\n",
      "Epoch: 175, loss in training: 0.13196 loss in val: 0.13133\n",
      "Epoch: 176, loss in training: 0.13196 loss in val: 0.13133\n",
      "Epoch: 177, loss in training: 0.13196 loss in val: 0.13133\n",
      "Epoch: 178, loss in training: 0.13196 loss in val: 0.13133\n",
      "Epoch: 179, loss in training: 0.13196 loss in val: 0.13133\n",
      "Epoch: 180, loss in training: 0.13196 loss in val: 0.13133\n",
      "Epoch: 181, loss in training: 0.13196 loss in val: 0.13133\n",
      "Epoch: 182, loss in training: 0.13196 loss in val: 0.13133\n",
      "Epoch: 183, loss in training: 0.13196 loss in val: 0.13133\n",
      "Epoch: 184, loss in training: 0.13196 loss in val: 0.13133\n",
      "Epoch: 185, loss in training: 0.13196 loss in val: 0.13133\n",
      "Epoch: 186, loss in training: 0.13196 loss in val: 0.13133\n",
      "Epoch: 187, loss in training: 0.13196 loss in val: 0.13133\n",
      "Epoch: 188, loss in training: 0.13196 loss in val: 0.13133\n",
      "Epoch: 189, loss in training: 0.13196 loss in val: 0.13133\n",
      "Epoch: 190, loss in training: 0.13196 loss in val: 0.13133\n",
      "Epoch: 191, loss in training: 0.13196 loss in val: 0.13133\n",
      "Epoch: 192, loss in training: 0.13196 loss in val: 0.13133\n",
      "Epoch: 193, loss in training: 0.13196 loss in val: 0.13133\n",
      "Epoch: 194, loss in training: 0.13196 loss in val: 0.13133\n",
      "Epoch: 195, loss in training: 0.13196 loss in val: 0.13133\n",
      "Epoch: 196, loss in training: 0.13196 loss in val: 0.13133\n",
      "Epoch: 197, loss in training: 0.13196 loss in val: 0.13133\n",
      "Epoch: 198, loss in training: 0.13196 loss in val: 0.13133\n",
      "Epoch: 199, loss in training: 0.13196 loss in val: 0.13133\n",
      "Epoch: 200, loss in training: 0.13196 loss in val: 0.13133\n",
      "Epoch: 201, loss in training: 0.13196 loss in val: 0.13133\n",
      "Epoch: 202, loss in training: 0.13196 loss in val: 0.13133\n",
      "Epoch: 203, loss in training: 0.13196 loss in val: 0.13133\n",
      "Epoch: 204, loss in training: 0.13196 loss in val: 0.13133\n",
      "Epoch: 205, loss in training: 0.13196 loss in val: 0.13133\n",
      "Epoch: 206, loss in training: 0.13196 loss in val: 0.13133\n",
      "Epoch: 207, loss in training: 0.13196 loss in val: 0.13133\n",
      "Epoch: 208, loss in training: 0.13196 loss in val: 0.13133\n",
      "Epoch: 209, loss in training: 0.13196 loss in val: 0.13133\n",
      "Epoch: 210, loss in training: 0.13196 loss in val: 0.13133\n",
      "Epoch: 211, loss in training: 0.13196 loss in val: 0.13133\n",
      "Epoch: 212, loss in training: 0.13196 loss in val: 0.13133\n",
      "Epoch: 213, loss in training: 0.13196 loss in val: 0.13133\n",
      "Epoch: 214, loss in training: 0.13196 loss in val: 0.13133\n",
      "Epoch: 215, loss in training: 0.13196 loss in val: 0.13133\n",
      "Epoch: 216, loss in training: 0.13196 loss in val: 0.13133\n",
      "Epoch: 217, loss in training: 0.13196 loss in val: 0.13133\n",
      "Epoch: 218, loss in training: 0.13196 loss in val: 0.13133\n",
      "Epoch: 219, loss in training: 0.13196 loss in val: 0.13133\n",
      "Epoch: 220, loss in training: 0.13196 loss in val: 0.13133\n",
      "Epoch: 221, loss in training: 0.13196 loss in val: 0.13133\n",
      "Epoch: 222, loss in training: 0.13196 loss in val: 0.13133\n",
      "Epoch: 223, loss in training: 0.13196 loss in val: 0.13133\n",
      "Epoch: 224, loss in training: 0.13196 loss in val: 0.13133\n",
      "Epoch: 225, loss in training: 0.13196 loss in val: 0.13133\n",
      "Epoch: 226, loss in training: 0.13196 loss in val: 0.13133\n",
      "Epoch: 227, loss in training: 0.13196 loss in val: 0.13133\n",
      "Epoch: 228, loss in training: 0.13196 loss in val: 0.13133\n",
      "Epoch: 229, loss in training: 0.13196 loss in val: 0.13133\n",
      "Epoch: 230, loss in training: 0.13196 loss in val: 0.13133\n",
      "Epoch: 231, loss in training: 0.13196 loss in val: 0.13133\n",
      "Epoch: 232, loss in training: 0.13196 loss in val: 0.13133\n",
      "Epoch: 233, loss in training: 0.13196 loss in val: 0.13133\n",
      "Epoch: 234, loss in training: 0.13196 loss in val: 0.13133\n",
      "Epoch: 235, loss in training: 0.13196 loss in val: 0.13133\n",
      "Epoch: 236, loss in training: 0.13196 loss in val: 0.13133\n",
      "Epoch: 237, loss in training: 0.13196 loss in val: 0.13133\n",
      "Epoch: 238, loss in training: 0.13196 loss in val: 0.13133\n",
      "Epoch: 239, loss in training: 0.13196 loss in val: 0.13133\n",
      "Epoch: 240, loss in training: 0.13196 loss in val: 0.13133\n",
      "Epoch: 241, loss in training: 0.13196 loss in val: 0.13133\n",
      "Epoch: 242, loss in training: 0.13196 loss in val: 0.13133\n",
      "Epoch: 243, loss in training: 0.13196 loss in val: 0.13133\n",
      "Epoch: 244, loss in training: 0.13196 loss in val: 0.13133\n",
      "Epoch: 245, loss in training: 0.13196 loss in val: 0.13133\n",
      "Epoch: 246, loss in training: 0.13196 loss in val: 0.13133\n",
      "Epoch: 247, loss in training: 0.13196 loss in val: 0.13133\n",
      "Epoch: 248, loss in training: 0.13196 loss in val: 0.13133\n",
      "Epoch: 249, loss in training: 0.13196 loss in val: 0.13133\n",
      "Epoch: 250, loss in training: 0.13196 loss in val: 0.13133\n",
      "Epoch: 251, loss in training: 0.13196 loss in val: 0.13133\n",
      "Epoch: 252, loss in training: 0.13196 loss in val: 0.13133\n",
      "Epoch: 253, loss in training: 0.13196 loss in val: 0.13133\n",
      "Epoch: 254, loss in training: 0.13196 loss in val: 0.13133\n",
      "Epoch: 255, loss in training: 0.13196 loss in val: 0.13133\n",
      "Epoch: 256, loss in training: 0.13196 loss in val: 0.13133\n",
      "Epoch: 257, loss in training: 0.13196 loss in val: 0.13133\n",
      "Epoch: 258, loss in training: 0.13196 loss in val: 0.13133\n",
      "Epoch: 259, loss in training: 0.13196 loss in val: 0.13133\n",
      "Epoch: 260, loss in training: 0.13196 loss in val: 0.13133\n",
      "Epoch: 261, loss in training: 0.13196 loss in val: 0.13133\n",
      "Epoch: 262, loss in training: 0.13196 loss in val: 0.13133\n",
      "Epoch: 263, loss in training: 0.13196 loss in val: 0.13133\n",
      "Epoch: 264, loss in training: 0.13196 loss in val: 0.13133\n",
      "Epoch: 265, loss in training: 0.13196 loss in val: 0.13133\n",
      "Epoch: 266, loss in training: 0.13196 loss in val: 0.13133\n",
      "Epoch: 267, loss in training: 0.13196 loss in val: 0.13133\n",
      "Epoch: 268, loss in training: 0.13196 loss in val: 0.13133\n",
      "Epoch: 269, loss in training: 0.13196 loss in val: 0.13133\n",
      "Epoch: 270, loss in training: 0.13196 loss in val: 0.13133\n",
      "Epoch: 271, loss in training: 0.13196 loss in val: 0.13133\n",
      "Epoch: 272, loss in training: 0.13196 loss in val: 0.13133\n",
      "Epoch: 273, loss in training: 0.13196 loss in val: 0.13133\n",
      "Epoch: 274, loss in training: 0.13196 loss in val: 0.13133\n",
      "Epoch: 275, loss in training: 0.13196 loss in val: 0.13133\n",
      "Epoch: 276, loss in training: 0.13196 loss in val: 0.13133\n",
      "Epoch: 277, loss in training: 0.13196 loss in val: 0.13133\n",
      "Epoch: 278, loss in training: 0.13196 loss in val: 0.13133\n",
      "Epoch: 279, loss in training: 0.13196 loss in val: 0.13133\n",
      "Epoch: 280, loss in training: 0.13196 loss in val: 0.13133\n",
      "Epoch: 281, loss in training: 0.13196 loss in val: 0.13133\n",
      "Epoch: 282, loss in training: 0.13196 loss in val: 0.13133\n",
      "Epoch: 283, loss in training: 0.13196 loss in val: 0.13133\n",
      "Epoch: 284, loss in training: 0.13196 loss in val: 0.13133\n",
      "Epoch: 285, loss in training: 0.13196 loss in val: 0.13133\n",
      "Epoch: 286, loss in training: 0.13196 loss in val: 0.13133\n",
      "Epoch: 287, loss in training: 0.13196 loss in val: 0.13133\n",
      "Epoch: 288, loss in training: 0.13196 loss in val: 0.13133\n",
      "Epoch: 289, loss in training: 0.13196 loss in val: 0.13133\n",
      "Epoch: 290, loss in training: 0.13196 loss in val: 0.13133\n",
      "Epoch: 291, loss in training: 0.13196 loss in val: 0.13133\n",
      "Epoch: 292, loss in training: 0.13196 loss in val: 0.13133\n",
      "Epoch: 293, loss in training: 0.13196 loss in val: 0.13133\n",
      "Epoch: 294, loss in training: 0.13196 loss in val: 0.13133\n",
      "Epoch: 295, loss in training: 0.13196 loss in val: 0.13133\n",
      "Epoch: 296, loss in training: 0.13196 loss in val: 0.13133\n",
      "Epoch: 297, loss in training: 0.13196 loss in val: 0.13133\n",
      "Epoch: 298, loss in training: 0.13196 loss in val: 0.13133\n",
      "Epoch: 299, loss in training: 0.13196 loss in val: 0.13133\n",
      "Epoch: 300, loss in training: 0.13196 loss in val: 0.13133\n",
      "Epoch: 301, loss in training: 0.13196 loss in val: 0.13133\n",
      "Epoch: 302, loss in training: 0.13196 loss in val: 0.13133\n",
      "Epoch: 303, loss in training: 0.13196 loss in val: 0.13133\n",
      "Epoch: 304, loss in training: 0.13196 loss in val: 0.13133\n",
      "Epoch: 305, loss in training: 0.13196 loss in val: 0.13133\n",
      "Epoch: 306, loss in training: 0.13196 loss in val: 0.13133\n",
      "Epoch: 307, loss in training: 0.13196 loss in val: 0.13133\n",
      "Epoch: 308, loss in training: 0.13196 loss in val: 0.13133\n",
      "Epoch: 309, loss in training: 0.13196 loss in val: 0.13133\n",
      "Epoch: 310, loss in training: 0.13196 loss in val: 0.13133\n",
      "Epoch: 311, loss in training: 0.13196 loss in val: 0.13133\n",
      "Epoch: 312, loss in training: 0.13196 loss in val: 0.13133\n",
      "Epoch: 313, loss in training: 0.13196 loss in val: 0.13133\n",
      "Epoch: 314, loss in training: 0.13196 loss in val: 0.13133\n",
      "Epoch: 315, loss in training: 0.13196 loss in val: 0.13133\n",
      "Epoch: 316, loss in training: 0.13196 loss in val: 0.13133\n",
      "Epoch: 317, loss in training: 0.13196 loss in val: 0.13133\n",
      "Epoch: 318, loss in training: 0.13196 loss in val: 0.13133\n",
      "Epoch: 319, loss in training: 0.13196 loss in val: 0.13133\n",
      "Epoch: 320, loss in training: 0.13196 loss in val: 0.13133\n",
      "Epoch: 321, loss in training: 0.13196 loss in val: 0.13133\n",
      "Epoch: 322, loss in training: 0.13196 loss in val: 0.13133\n",
      "Epoch: 323, loss in training: 0.13196 loss in val: 0.13133\n",
      "Epoch: 324, loss in training: 0.13196 loss in val: 0.13133\n",
      "Epoch: 325, loss in training: 0.13196 loss in val: 0.13133\n",
      "Epoch: 326, loss in training: 0.13196 loss in val: 0.13133\n",
      "Epoch: 327, loss in training: 0.13196 loss in val: 0.13133\n",
      "Epoch: 328, loss in training: 0.13196 loss in val: 0.13133\n",
      "Epoch: 329, loss in training: 0.13196 loss in val: 0.13133\n",
      "Epoch: 330, loss in training: 0.13196 loss in val: 0.13133\n",
      "Epoch: 331, loss in training: 0.13196 loss in val: 0.13133\n",
      "Epoch: 332, loss in training: 0.13196 loss in val: 0.13133\n",
      "Epoch: 333, loss in training: 0.13196 loss in val: 0.13133\n",
      "Epoch: 334, loss in training: 0.13196 loss in val: 0.13133\n",
      "Epoch: 335, loss in training: 0.13196 loss in val: 0.13133\n",
      "Epoch: 336, loss in training: 0.13196 loss in val: 0.13133\n",
      "Epoch: 337, loss in training: 0.13196 loss in val: 0.13133\n",
      "Epoch: 338, loss in training: 0.13196 loss in val: 0.13133\n",
      "Epoch: 339, loss in training: 0.13196 loss in val: 0.13133\n",
      "Epoch: 340, loss in training: 0.13196 loss in val: 0.13133\n",
      "Epoch: 341, loss in training: 0.13196 loss in val: 0.13133\n",
      "Epoch: 342, loss in training: 0.13196 loss in val: 0.13133\n",
      "Epoch: 343, loss in training: 0.13196 loss in val: 0.13133\n",
      "Epoch: 344, loss in training: 0.13196 loss in val: 0.13133\n",
      "Epoch: 345, loss in training: 0.13196 loss in val: 0.13133\n",
      "Epoch: 346, loss in training: 0.13196 loss in val: 0.13133\n",
      "Epoch: 347, loss in training: 0.13196 loss in val: 0.13133\n",
      "Epoch: 348, loss in training: 0.13196 loss in val: 0.13133\n",
      "Epoch: 349, loss in training: 0.13196 loss in val: 0.13133\n",
      "Epoch: 350, loss in training: 0.13196 loss in val: 0.13133\n",
      "Epoch: 351, loss in training: 0.13196 loss in val: 0.13133\n",
      "Epoch: 352, loss in training: 0.13196 loss in val: 0.13133\n",
      "Epoch: 353, loss in training: 0.13196 loss in val: 0.13133\n",
      "Epoch: 354, loss in training: 0.13196 loss in val: 0.13133\n",
      "Epoch: 355, loss in training: 0.13196 loss in val: 0.13133\n",
      "Epoch: 356, loss in training: 0.13196 loss in val: 0.13133\n",
      "Epoch: 357, loss in training: 0.13196 loss in val: 0.13133\n",
      "Epoch: 358, loss in training: 0.13196 loss in val: 0.13133\n",
      "Epoch: 359, loss in training: 0.13196 loss in val: 0.13133\n",
      "Epoch: 360, loss in training: 0.13196 loss in val: 0.13133\n",
      "Epoch: 361, loss in training: 0.13196 loss in val: 0.13133\n",
      "Epoch: 362, loss in training: 0.13196 loss in val: 0.13133\n",
      "Epoch: 363, loss in training: 0.13196 loss in val: 0.13133\n",
      "Epoch: 364, loss in training: 0.13196 loss in val: 0.13133\n",
      "Epoch: 365, loss in training: 0.13196 loss in val: 0.13133\n",
      "Epoch: 366, loss in training: 0.13196 loss in val: 0.13133\n",
      "Epoch: 367, loss in training: 0.13196 loss in val: 0.13133\n",
      "Epoch: 368, loss in training: 0.13196 loss in val: 0.13133\n",
      "Epoch: 369, loss in training: 0.13196 loss in val: 0.13133\n",
      "Epoch: 370, loss in training: 0.13196 loss in val: 0.13133\n",
      "Epoch: 371, loss in training: 0.13196 loss in val: 0.13133\n",
      "Epoch: 372, loss in training: 0.13196 loss in val: 0.13133\n",
      "Epoch: 373, loss in training: 0.13196 loss in val: 0.13133\n",
      "Epoch: 374, loss in training: 0.13196 loss in val: 0.13133\n",
      "Epoch: 375, loss in training: 0.13196 loss in val: 0.13133\n",
      "Epoch: 376, loss in training: 0.13196 loss in val: 0.13133\n",
      "Epoch: 377, loss in training: 0.13196 loss in val: 0.13133\n",
      "Epoch: 378, loss in training: 0.13196 loss in val: 0.13133\n",
      "Epoch: 379, loss in training: 0.13196 loss in val: 0.13133\n",
      "Epoch: 380, loss in training: 0.13196 loss in val: 0.13133\n",
      "Epoch: 381, loss in training: 0.13196 loss in val: 0.13133\n",
      "Epoch: 382, loss in training: 0.13196 loss in val: 0.13133\n",
      "Epoch: 383, loss in training: 0.13196 loss in val: 0.13133\n",
      "Epoch: 384, loss in training: 0.13196 loss in val: 0.13133\n",
      "Epoch: 385, loss in training: 0.13196 loss in val: 0.13133\n",
      "Epoch: 386, loss in training: 0.13196 loss in val: 0.13133\n",
      "Epoch: 387, loss in training: 0.13196 loss in val: 0.13133\n",
      "Epoch: 388, loss in training: 0.13196 loss in val: 0.13133\n",
      "Epoch: 389, loss in training: 0.13196 loss in val: 0.13133\n",
      "Epoch: 390, loss in training: 0.13196 loss in val: 0.13133\n",
      "Epoch: 391, loss in training: 0.13196 loss in val: 0.13133\n",
      "Epoch: 392, loss in training: 0.13196 loss in val: 0.13133\n",
      "Epoch: 393, loss in training: 0.13196 loss in val: 0.13133\n",
      "Epoch: 394, loss in training: 0.13196 loss in val: 0.13133\n",
      "Epoch: 395, loss in training: 0.13196 loss in val: 0.13133\n",
      "Epoch: 396, loss in training: 0.13196 loss in val: 0.13133\n",
      "Epoch: 397, loss in training: 0.13196 loss in val: 0.13133\n",
      "Epoch: 398, loss in training: 0.13196 loss in val: 0.13133\n",
      "Epoch: 399, loss in training: 0.13196 loss in val: 0.13133\n",
      "Epoch: 400, loss in training: 0.13196 loss in val: 0.13133\n",
      "Epoch: 401, loss in training: 0.13196 loss in val: 0.13133\n",
      "Epoch: 402, loss in training: 0.13196 loss in val: 0.13133\n",
      "Epoch: 403, loss in training: 0.13196 loss in val: 0.13133\n",
      "Epoch: 404, loss in training: 0.13196 loss in val: 0.13133\n",
      "Epoch: 405, loss in training: 0.13196 loss in val: 0.13133\n",
      "Epoch: 406, loss in training: 0.13196 loss in val: 0.13133\n",
      "Epoch: 407, loss in training: 0.13196 loss in val: 0.13133\n",
      "Epoch: 408, loss in training: 0.13196 loss in val: 0.13133\n",
      "Epoch: 409, loss in training: 0.13196 loss in val: 0.13133\n",
      "Epoch: 410, loss in training: 0.13196 loss in val: 0.13133\n",
      "Epoch: 411, loss in training: 0.13196 loss in val: 0.13133\n",
      "Epoch: 412, loss in training: 0.13196 loss in val: 0.13133\n",
      "Epoch: 413, loss in training: 0.13196 loss in val: 0.13133\n",
      "Epoch: 414, loss in training: 0.13196 loss in val: 0.13133\n",
      "Epoch: 415, loss in training: 0.13196 loss in val: 0.13133\n",
      "Epoch: 416, loss in training: 0.13196 loss in val: 0.13133\n",
      "Epoch: 417, loss in training: 0.13196 loss in val: 0.13133\n",
      "Epoch: 418, loss in training: 0.13196 loss in val: 0.13133\n",
      "Epoch: 419, loss in training: 0.13196 loss in val: 0.13133\n",
      "Epoch: 420, loss in training: 0.13196 loss in val: 0.13133\n",
      "Epoch: 421, loss in training: 0.13196 loss in val: 0.13133\n",
      "Epoch: 422, loss in training: 0.13196 loss in val: 0.13133\n",
      "Epoch: 423, loss in training: 0.13196 loss in val: 0.13133\n",
      "Epoch: 424, loss in training: 0.13196 loss in val: 0.13133\n",
      "Epoch: 425, loss in training: 0.13196 loss in val: 0.13133\n",
      "Epoch: 426, loss in training: 0.13196 loss in val: 0.13133\n",
      "Epoch: 427, loss in training: 0.13196 loss in val: 0.13133\n",
      "Epoch: 428, loss in training: 0.13196 loss in val: 0.13133\n",
      "Epoch: 429, loss in training: 0.13196 loss in val: 0.13133\n",
      "Epoch: 430, loss in training: 0.13196 loss in val: 0.13133\n",
      "Epoch: 431, loss in training: 0.13196 loss in val: 0.13133\n",
      "Epoch: 432, loss in training: 0.13196 loss in val: 0.13133\n",
      "Epoch: 433, loss in training: 0.13196 loss in val: 0.13133\n",
      "Epoch: 434, loss in training: 0.13196 loss in val: 0.13133\n",
      "Epoch: 435, loss in training: 0.13196 loss in val: 0.13133\n",
      "Epoch: 436, loss in training: 0.13196 loss in val: 0.13133\n",
      "Epoch: 437, loss in training: 0.13196 loss in val: 0.13133\n",
      "Epoch: 438, loss in training: 0.13196 loss in val: 0.13133\n",
      "Epoch: 439, loss in training: 0.13196 loss in val: 0.13133\n",
      "Epoch: 440, loss in training: 0.13196 loss in val: 0.13133\n",
      "Epoch: 441, loss in training: 0.13196 loss in val: 0.13133\n",
      "Epoch: 442, loss in training: 0.13196 loss in val: 0.13133\n",
      "Epoch: 443, loss in training: 0.13196 loss in val: 0.13133\n",
      "Epoch: 444, loss in training: 0.13196 loss in val: 0.13133\n",
      "Epoch: 445, loss in training: 0.13196 loss in val: 0.13133\n",
      "Epoch: 446, loss in training: 0.13196 loss in val: 0.13133\n",
      "Epoch: 447, loss in training: 0.13196 loss in val: 0.13133\n",
      "Epoch: 448, loss in training: 0.13196 loss in val: 0.13133\n",
      "Epoch: 449, loss in training: 0.13196 loss in val: 0.13133\n",
      "Epoch: 450, loss in training: 0.13196 loss in val: 0.13133\n",
      "Epoch: 451, loss in training: 0.13196 loss in val: 0.13133\n",
      "Epoch: 452, loss in training: 0.13196 loss in val: 0.13133\n",
      "Epoch: 453, loss in training: 0.13196 loss in val: 0.13133\n",
      "Epoch: 454, loss in training: 0.13196 loss in val: 0.13133\n",
      "Epoch: 455, loss in training: 0.13196 loss in val: 0.13133\n",
      "Epoch: 456, loss in training: 0.13196 loss in val: 0.13133\n",
      "Epoch: 457, loss in training: 0.13196 loss in val: 0.13133\n",
      "Epoch: 458, loss in training: 0.13196 loss in val: 0.13133\n",
      "Epoch: 459, loss in training: 0.13196 loss in val: 0.13133\n",
      "Epoch: 460, loss in training: 0.13196 loss in val: 0.13133\n",
      "Epoch: 461, loss in training: 0.13196 loss in val: 0.13133\n",
      "Epoch: 462, loss in training: 0.13196 loss in val: 0.13133\n",
      "Epoch: 463, loss in training: 0.13196 loss in val: 0.13133\n",
      "Epoch: 464, loss in training: 0.13196 loss in val: 0.13133\n",
      "Epoch: 465, loss in training: 0.13196 loss in val: 0.13133\n",
      "Epoch: 466, loss in training: 0.13196 loss in val: 0.13133\n",
      "Epoch: 467, loss in training: 0.13196 loss in val: 0.13133\n",
      "Epoch: 468, loss in training: 0.13196 loss in val: 0.13133\n",
      "Epoch: 469, loss in training: 0.13196 loss in val: 0.13133\n",
      "Epoch: 470, loss in training: 0.13196 loss in val: 0.13133\n",
      "Epoch: 471, loss in training: 0.13196 loss in val: 0.13133\n",
      "Epoch: 472, loss in training: 0.13196 loss in val: 0.13133\n",
      "Epoch: 473, loss in training: 0.13196 loss in val: 0.13133\n",
      "Epoch: 474, loss in training: 0.13196 loss in val: 0.13133\n",
      "Epoch: 475, loss in training: 0.13196 loss in val: 0.13133\n",
      "Epoch: 476, loss in training: 0.13196 loss in val: 0.13133\n",
      "Epoch: 477, loss in training: 0.13196 loss in val: 0.13133\n",
      "Epoch: 478, loss in training: 0.13196 loss in val: 0.13133\n",
      "Epoch: 479, loss in training: 0.13196 loss in val: 0.13133\n",
      "Epoch: 480, loss in training: 0.13196 loss in val: 0.13133\n",
      "Epoch: 481, loss in training: 0.13196 loss in val: 0.13133\n",
      "Epoch: 482, loss in training: 0.13196 loss in val: 0.13133\n",
      "Epoch: 483, loss in training: 0.13196 loss in val: 0.13133\n",
      "Epoch: 484, loss in training: 0.13196 loss in val: 0.13133\n",
      "Epoch: 485, loss in training: 0.13196 loss in val: 0.13133\n",
      "Epoch: 486, loss in training: 0.13196 loss in val: 0.13133\n",
      "Epoch: 487, loss in training: 0.13196 loss in val: 0.13133\n",
      "Epoch: 488, loss in training: 0.13196 loss in val: 0.13133\n",
      "Epoch: 489, loss in training: 0.13196 loss in val: 0.13133\n",
      "Epoch: 490, loss in training: 0.13196 loss in val: 0.13133\n",
      "Epoch: 491, loss in training: 0.13196 loss in val: 0.13133\n",
      "Epoch: 492, loss in training: 0.13196 loss in val: 0.13133\n",
      "Epoch: 493, loss in training: 0.13196 loss in val: 0.13133\n",
      "Epoch: 494, loss in training: 0.13196 loss in val: 0.13133\n",
      "Epoch: 495, loss in training: 0.13196 loss in val: 0.13133\n",
      "Epoch: 496, loss in training: 0.13196 loss in val: 0.13133\n",
      "Epoch: 497, loss in training: 0.13196 loss in val: 0.13133\n",
      "Epoch: 498, loss in training: 0.13196 loss in val: 0.13133\n",
      "Epoch: 499, loss in training: 0.13196 loss in val: 0.13133\n"
     ]
    }
   ],
   "source": [
    "rs=  Grid_Search_NN(TestModel, NN_experiments[\"parameters\"], NN_y_1_train,NN_y_1_val, NN_y_1_train_tensor,NN_y_1_val_tensor,NN_X_1_train_scaled_tensor,NN_X_1_val_scaled_tensor, y_scaler, 500)"
   ]
  },
  {
   "cell_type": "code",
   "execution_count": 84,
   "metadata": {},
   "outputs": [],
   "source": [
    "with torch.no_grad():\n",
    "    y_test_predict = y_scaler.inverse_transform(rs[\"best_model_CV\"](NN_X_1_test_scaled_tensor).cpu())\n",
    "RMSE = math.sqrt(mean_squared_error(y_1_test,y_test_predict))\n",
    "MAE = mean_absolute_error(y_1_test,y_test_predict)\n",
    "MAPE = mean_absolute_percentage_error(y_1_test,y_test_predict)\n",
    "Results.append({\"name\":\"Neural Network\",\"scores\":{\"RMSE\":RMSE,\"MAE\":MAE,\"MAPE\":MAPE}})"
   ]
  },
  {
   "cell_type": "code",
   "execution_count": 79,
   "metadata": {},
   "outputs": [
    {
     "data": {
      "text/plain": [
       "torch.Size([32554, 27])"
      ]
     },
     "execution_count": 79,
     "metadata": {},
     "output_type": "execute_result"
    }
   ],
   "source": [
    "NN_X_1_test_scaled_tensor.shape"
   ]
  },
  {
   "cell_type": "code",
   "execution_count": 85,
   "metadata": {},
   "outputs": [
    {
     "data": {
      "text/plain": [
       "[{'name': 'baseline',\n",
       "  'scores': {'RMSE': 641322.4107369833,\n",
       "   'MAE': 486128.33970587794,\n",
       "   'MAPE': 0.45066580547305596}},\n",
       " {'name': 'Neural Network',\n",
       "  'scores': {'RMSE': 641685.9881242852,\n",
       "   'MAE': 486267.4711350748,\n",
       "   'MAPE': 0.45052059195593464}},\n",
       " {'name': 'Neural Network',\n",
       "  'scores': {'RMSE': 664347.1728719922,\n",
       "   'MAE': 485217.23026708426,\n",
       "   'MAPE': 0.42106035259466734}}]"
      ]
     },
     "execution_count": 85,
     "metadata": {},
     "output_type": "execute_result"
    }
   ],
   "source": [
    "Results"
   ]
  },
  {
   "cell_type": "code",
   "execution_count": 53,
   "metadata": {},
   "outputs": [
    {
     "data": {
      "text/plain": [
       "639092.4843414538"
      ]
     },
     "execution_count": 53,
     "metadata": {},
     "output_type": "execute_result"
    }
   ],
   "source": [
    "math.sqrt(rs[\"best_rmse\"])"
   ]
  },
  {
   "cell_type": "code",
   "execution_count": 49,
   "metadata": {},
   "outputs": [
    {
     "data": {
      "text/plain": [
       "425"
      ]
     },
     "execution_count": 49,
     "metadata": {},
     "output_type": "execute_result"
    }
   ],
   "source": [
    "rs[\"best_epoch_CV\"]"
   ]
  },
  {
   "cell_type": "code",
   "execution_count": 64,
   "metadata": {},
   "outputs": [],
   "source": [
    "from torch import nn"
   ]
  },
  {
   "cell_type": "code",
   "execution_count": 86,
   "metadata": {},
   "outputs": [],
   "source": [
    "class NN_64_2_T(nn.Module):\n",
    "\n",
    "    def __init__(self, input_size):\n",
    "        super(NN_64_2_T, self).__init__()\n",
    "                \n",
    "        self.hidden_1 = nn.Linear(input_size, 32)\n",
    "        self.output = nn.Linear(32,1)\n",
    "        #from https://wandb.ai/authors/ayusht/reports/Implementing-Dropout-in-PyTorch-With-Example--VmlldzoxNTgwOTE\n",
    "\n",
    "        \n",
    " \n",
    "    def forward(self, x):\n",
    "\n",
    "        out1 = nn.Sigmoid()(self.hidden_1(x))\n",
    "        return self.output(out1)"
   ]
  },
  {
   "cell_type": "code",
   "execution_count": null,
   "metadata": {},
   "outputs": [],
   "source": []
  },
  {
   "cell_type": "code",
   "execution_count": null,
   "metadata": {},
   "outputs": [],
   "source": []
  },
  {
   "cell_type": "code",
   "execution_count": null,
   "metadata": {},
   "outputs": [],
   "source": []
  },
  {
   "cell_type": "code",
   "execution_count": null,
   "metadata": {},
   "outputs": [],
   "source": []
  },
  {
   "cell_type": "code",
   "execution_count": null,
   "metadata": {},
   "outputs": [],
   "source": []
  },
  {
   "cell_type": "markdown",
   "metadata": {},
   "source": [
    "# Full dataset"
   ]
  },
  {
   "cell_type": "code",
   "execution_count": 54,
   "metadata": {},
   "outputs": [
    {
     "data": {
      "text/html": [
       "<div>\n",
       "<style scoped>\n",
       "    .dataframe tbody tr th:only-of-type {\n",
       "        vertical-align: middle;\n",
       "    }\n",
       "\n",
       "    .dataframe tbody tr th {\n",
       "        vertical-align: top;\n",
       "    }\n",
       "\n",
       "    .dataframe thead th {\n",
       "        text-align: right;\n",
       "    }\n",
       "</style>\n",
       "<table border=\"1\" class=\"dataframe\">\n",
       "  <thead>\n",
       "    <tr style=\"text-align: right;\">\n",
       "      <th></th>\n",
       "      <th>sellPrice</th>\n",
       "      <th>bed</th>\n",
       "      <th>bath</th>\n",
       "      <th>car</th>\n",
       "      <th>year_norm</th>\n",
       "      <th>propType_house</th>\n",
       "      <th>propType_terrace</th>\n",
       "      <th>propType_townhouse</th>\n",
       "      <th>propType_villa</th>\n",
       "      <th>suburb_Abbotsford</th>\n",
       "      <th>...</th>\n",
       "      <th>suburb_Woronora Heights</th>\n",
       "      <th>suburb_Yagoona</th>\n",
       "      <th>suburb_Yagoona West</th>\n",
       "      <th>suburb_Yanderra</th>\n",
       "      <th>suburb_Yarramundi</th>\n",
       "      <th>suburb_Yarrawarrah</th>\n",
       "      <th>suburb_Yellow Rock</th>\n",
       "      <th>suburb_Yennora</th>\n",
       "      <th>suburb_Yowie Bay</th>\n",
       "      <th>suburb_Zetland</th>\n",
       "    </tr>\n",
       "  </thead>\n",
       "  <tbody>\n",
       "    <tr>\n",
       "      <th>0</th>\n",
       "      <td>1210000</td>\n",
       "      <td>4.0</td>\n",
       "      <td>2</td>\n",
       "      <td>2.0</td>\n",
       "      <td>11</td>\n",
       "      <td>1</td>\n",
       "      <td>0</td>\n",
       "      <td>0</td>\n",
       "      <td>0</td>\n",
       "      <td>0</td>\n",
       "      <td>...</td>\n",
       "      <td>0</td>\n",
       "      <td>0</td>\n",
       "      <td>0</td>\n",
       "      <td>0</td>\n",
       "      <td>0</td>\n",
       "      <td>0</td>\n",
       "      <td>0</td>\n",
       "      <td>0</td>\n",
       "      <td>0</td>\n",
       "      <td>0</td>\n",
       "    </tr>\n",
       "    <tr>\n",
       "      <th>1</th>\n",
       "      <td>2250000</td>\n",
       "      <td>4.0</td>\n",
       "      <td>3</td>\n",
       "      <td>4.0</td>\n",
       "      <td>11</td>\n",
       "      <td>1</td>\n",
       "      <td>0</td>\n",
       "      <td>0</td>\n",
       "      <td>0</td>\n",
       "      <td>0</td>\n",
       "      <td>...</td>\n",
       "      <td>0</td>\n",
       "      <td>0</td>\n",
       "      <td>0</td>\n",
       "      <td>0</td>\n",
       "      <td>0</td>\n",
       "      <td>0</td>\n",
       "      <td>0</td>\n",
       "      <td>0</td>\n",
       "      <td>0</td>\n",
       "      <td>0</td>\n",
       "    </tr>\n",
       "    <tr>\n",
       "      <th>2</th>\n",
       "      <td>2920000</td>\n",
       "      <td>3.0</td>\n",
       "      <td>3</td>\n",
       "      <td>2.0</td>\n",
       "      <td>11</td>\n",
       "      <td>1</td>\n",
       "      <td>0</td>\n",
       "      <td>0</td>\n",
       "      <td>0</td>\n",
       "      <td>0</td>\n",
       "      <td>...</td>\n",
       "      <td>0</td>\n",
       "      <td>0</td>\n",
       "      <td>0</td>\n",
       "      <td>0</td>\n",
       "      <td>0</td>\n",
       "      <td>0</td>\n",
       "      <td>0</td>\n",
       "      <td>0</td>\n",
       "      <td>0</td>\n",
       "      <td>0</td>\n",
       "    </tr>\n",
       "    <tr>\n",
       "      <th>3</th>\n",
       "      <td>1530000</td>\n",
       "      <td>3.0</td>\n",
       "      <td>1</td>\n",
       "      <td>2.0</td>\n",
       "      <td>11</td>\n",
       "      <td>1</td>\n",
       "      <td>0</td>\n",
       "      <td>0</td>\n",
       "      <td>0</td>\n",
       "      <td>0</td>\n",
       "      <td>...</td>\n",
       "      <td>0</td>\n",
       "      <td>0</td>\n",
       "      <td>0</td>\n",
       "      <td>0</td>\n",
       "      <td>0</td>\n",
       "      <td>0</td>\n",
       "      <td>0</td>\n",
       "      <td>0</td>\n",
       "      <td>0</td>\n",
       "      <td>0</td>\n",
       "    </tr>\n",
       "    <tr>\n",
       "      <th>5</th>\n",
       "      <td>1610000</td>\n",
       "      <td>4.0</td>\n",
       "      <td>2</td>\n",
       "      <td>2.0</td>\n",
       "      <td>11</td>\n",
       "      <td>1</td>\n",
       "      <td>0</td>\n",
       "      <td>0</td>\n",
       "      <td>0</td>\n",
       "      <td>0</td>\n",
       "      <td>...</td>\n",
       "      <td>0</td>\n",
       "      <td>0</td>\n",
       "      <td>0</td>\n",
       "      <td>0</td>\n",
       "      <td>0</td>\n",
       "      <td>0</td>\n",
       "      <td>0</td>\n",
       "      <td>0</td>\n",
       "      <td>0</td>\n",
       "      <td>0</td>\n",
       "    </tr>\n",
       "    <tr>\n",
       "      <th>...</th>\n",
       "      <td>...</td>\n",
       "      <td>...</td>\n",
       "      <td>...</td>\n",
       "      <td>...</td>\n",
       "      <td>...</td>\n",
       "      <td>...</td>\n",
       "      <td>...</td>\n",
       "      <td>...</td>\n",
       "      <td>...</td>\n",
       "      <td>...</td>\n",
       "      <td>...</td>\n",
       "      <td>...</td>\n",
       "      <td>...</td>\n",
       "      <td>...</td>\n",
       "      <td>...</td>\n",
       "      <td>...</td>\n",
       "      <td>...</td>\n",
       "      <td>...</td>\n",
       "      <td>...</td>\n",
       "      <td>...</td>\n",
       "      <td>...</td>\n",
       "    </tr>\n",
       "    <tr>\n",
       "      <th>199499</th>\n",
       "      <td>1900000</td>\n",
       "      <td>5.0</td>\n",
       "      <td>3</td>\n",
       "      <td>7.0</td>\n",
       "      <td>6</td>\n",
       "      <td>1</td>\n",
       "      <td>0</td>\n",
       "      <td>0</td>\n",
       "      <td>0</td>\n",
       "      <td>0</td>\n",
       "      <td>...</td>\n",
       "      <td>0</td>\n",
       "      <td>0</td>\n",
       "      <td>0</td>\n",
       "      <td>0</td>\n",
       "      <td>0</td>\n",
       "      <td>0</td>\n",
       "      <td>0</td>\n",
       "      <td>0</td>\n",
       "      <td>0</td>\n",
       "      <td>0</td>\n",
       "    </tr>\n",
       "    <tr>\n",
       "      <th>199500</th>\n",
       "      <td>980000</td>\n",
       "      <td>4.0</td>\n",
       "      <td>3</td>\n",
       "      <td>2.0</td>\n",
       "      <td>6</td>\n",
       "      <td>1</td>\n",
       "      <td>0</td>\n",
       "      <td>0</td>\n",
       "      <td>0</td>\n",
       "      <td>0</td>\n",
       "      <td>...</td>\n",
       "      <td>0</td>\n",
       "      <td>0</td>\n",
       "      <td>0</td>\n",
       "      <td>0</td>\n",
       "      <td>0</td>\n",
       "      <td>0</td>\n",
       "      <td>0</td>\n",
       "      <td>0</td>\n",
       "      <td>0</td>\n",
       "      <td>0</td>\n",
       "    </tr>\n",
       "    <tr>\n",
       "      <th>199501</th>\n",
       "      <td>850000</td>\n",
       "      <td>4.0</td>\n",
       "      <td>2</td>\n",
       "      <td>2.0</td>\n",
       "      <td>6</td>\n",
       "      <td>1</td>\n",
       "      <td>0</td>\n",
       "      <td>0</td>\n",
       "      <td>0</td>\n",
       "      <td>0</td>\n",
       "      <td>...</td>\n",
       "      <td>0</td>\n",
       "      <td>0</td>\n",
       "      <td>0</td>\n",
       "      <td>0</td>\n",
       "      <td>0</td>\n",
       "      <td>0</td>\n",
       "      <td>0</td>\n",
       "      <td>0</td>\n",
       "      <td>0</td>\n",
       "      <td>0</td>\n",
       "    </tr>\n",
       "    <tr>\n",
       "      <th>199502</th>\n",
       "      <td>640000</td>\n",
       "      <td>3.0</td>\n",
       "      <td>2</td>\n",
       "      <td>2.0</td>\n",
       "      <td>5</td>\n",
       "      <td>0</td>\n",
       "      <td>0</td>\n",
       "      <td>1</td>\n",
       "      <td>0</td>\n",
       "      <td>0</td>\n",
       "      <td>...</td>\n",
       "      <td>0</td>\n",
       "      <td>0</td>\n",
       "      <td>0</td>\n",
       "      <td>0</td>\n",
       "      <td>0</td>\n",
       "      <td>0</td>\n",
       "      <td>0</td>\n",
       "      <td>0</td>\n",
       "      <td>0</td>\n",
       "      <td>0</td>\n",
       "    </tr>\n",
       "    <tr>\n",
       "      <th>199503</th>\n",
       "      <td>1611000</td>\n",
       "      <td>5.0</td>\n",
       "      <td>4</td>\n",
       "      <td>3.0</td>\n",
       "      <td>3</td>\n",
       "      <td>1</td>\n",
       "      <td>0</td>\n",
       "      <td>0</td>\n",
       "      <td>0</td>\n",
       "      <td>0</td>\n",
       "      <td>...</td>\n",
       "      <td>0</td>\n",
       "      <td>0</td>\n",
       "      <td>0</td>\n",
       "      <td>0</td>\n",
       "      <td>0</td>\n",
       "      <td>0</td>\n",
       "      <td>0</td>\n",
       "      <td>0</td>\n",
       "      <td>0</td>\n",
       "      <td>0</td>\n",
       "    </tr>\n",
       "  </tbody>\n",
       "</table>\n",
       "<p>162766 rows × 673 columns</p>\n",
       "</div>"
      ],
      "text/plain": [
       "        sellPrice  bed  bath  car  year_norm  propType_house  \\\n",
       "0         1210000  4.0     2  2.0         11               1   \n",
       "1         2250000  4.0     3  4.0         11               1   \n",
       "2         2920000  3.0     3  2.0         11               1   \n",
       "3         1530000  3.0     1  2.0         11               1   \n",
       "5         1610000  4.0     2  2.0         11               1   \n",
       "...           ...  ...   ...  ...        ...             ...   \n",
       "199499    1900000  5.0     3  7.0          6               1   \n",
       "199500     980000  4.0     3  2.0          6               1   \n",
       "199501     850000  4.0     2  2.0          6               1   \n",
       "199502     640000  3.0     2  2.0          5               0   \n",
       "199503    1611000  5.0     4  3.0          3               1   \n",
       "\n",
       "        propType_terrace  propType_townhouse  propType_villa  \\\n",
       "0                      0                   0               0   \n",
       "1                      0                   0               0   \n",
       "2                      0                   0               0   \n",
       "3                      0                   0               0   \n",
       "5                      0                   0               0   \n",
       "...                  ...                 ...             ...   \n",
       "199499                 0                   0               0   \n",
       "199500                 0                   0               0   \n",
       "199501                 0                   0               0   \n",
       "199502                 0                   1               0   \n",
       "199503                 0                   0               0   \n",
       "\n",
       "        suburb_Abbotsford  ...  suburb_Woronora Heights  suburb_Yagoona  \\\n",
       "0                       0  ...                        0               0   \n",
       "1                       0  ...                        0               0   \n",
       "2                       0  ...                        0               0   \n",
       "3                       0  ...                        0               0   \n",
       "5                       0  ...                        0               0   \n",
       "...                   ...  ...                      ...             ...   \n",
       "199499                  0  ...                        0               0   \n",
       "199500                  0  ...                        0               0   \n",
       "199501                  0  ...                        0               0   \n",
       "199502                  0  ...                        0               0   \n",
       "199503                  0  ...                        0               0   \n",
       "\n",
       "        suburb_Yagoona West  suburb_Yanderra  suburb_Yarramundi  \\\n",
       "0                         0                0                  0   \n",
       "1                         0                0                  0   \n",
       "2                         0                0                  0   \n",
       "3                         0                0                  0   \n",
       "5                         0                0                  0   \n",
       "...                     ...              ...                ...   \n",
       "199499                    0                0                  0   \n",
       "199500                    0                0                  0   \n",
       "199501                    0                0                  0   \n",
       "199502                    0                0                  0   \n",
       "199503                    0                0                  0   \n",
       "\n",
       "        suburb_Yarrawarrah  suburb_Yellow Rock  suburb_Yennora  \\\n",
       "0                        0                   0               0   \n",
       "1                        0                   0               0   \n",
       "2                        0                   0               0   \n",
       "3                        0                   0               0   \n",
       "5                        0                   0               0   \n",
       "...                    ...                 ...             ...   \n",
       "199499                   0                   0               0   \n",
       "199500                   0                   0               0   \n",
       "199501                   0                   0               0   \n",
       "199502                   0                   0               0   \n",
       "199503                   0                   0               0   \n",
       "\n",
       "        suburb_Yowie Bay  suburb_Zetland  \n",
       "0                      0               0  \n",
       "1                      0               0  \n",
       "2                      0               0  \n",
       "3                      0               0  \n",
       "5                      0               0  \n",
       "...                  ...             ...  \n",
       "199499                 0               0  \n",
       "199500                 0               0  \n",
       "199501                 0               0  \n",
       "199502                 0               0  \n",
       "199503                 0               0  \n",
       "\n",
       "[162766 rows x 673 columns]"
      ]
     },
     "execution_count": 54,
     "metadata": {},
     "output_type": "execute_result"
    }
   ],
   "source": [
    "data_all_suburbs_final = data_all_suburbs_final.drop([\"Date\", \"Id\", \"postalCode\", \"year\"], axis=1)\n",
    "data_all_suburbs_final"
   ]
  },
  {
   "cell_type": "code",
   "execution_count": 55,
   "metadata": {},
   "outputs": [],
   "source": [
    "y_2 = data_all_suburbs_final[\"sellPrice\"]\n",
    "X_2 = data_all_suburbs_final.drop(\"sellPrice\", axis=1)\n",
    "X_2_train, X_2_test, y_2_train,y_2_test = train_test_split(X_2,y_2, test_size=0.3,shuffle=True)"
   ]
  },
  {
   "cell_type": "code",
   "execution_count": 56,
   "metadata": {},
   "outputs": [],
   "source": [
    "y_scaler2 = MinMaxScaler()\n",
    "scaler2 = MinMaxScaler()\n",
    "#shuffle not needed here as the data has been shuffled when the data was split in the first place\n",
    "NN_X_2_train, NN_X_2_val, NN_y_2_train, NN_y_2_val= train_test_split(X_2_train, y_2_train, test_size = 0.2)\n",
    "NN_X_2_train_scaled = scaler2.fit_transform(NN_X_2_train)\n",
    "NN_X_2_val_scaled = scaler2.transform(NN_X_2_val)\n",
    "NN_X_2_test_scaled = scaler2.transform(X_2_test)\n",
    "NN_y_2_train_scaled = y_scaler2.fit_transform(NN_y_2_train.to_numpy().reshape(-1, 1))\n",
    "NN_y_2_val_scaled = y_scaler2.transform(NN_y_2_val.to_numpy().reshape(-1, 1))\n",
    "#Generation of the Tensors that will be used for the training and prediciton \n",
    "NN_X_2_train_scaled_tensor = torch.Tensor(NN_X_2_train_scaled).to(device)\n",
    "NN_X_2_val_scaled_tensor = torch.Tensor(NN_X_2_val_scaled).to(device)\n",
    "NN_X_2_test_scaled_tensor = torch.Tensor(NN_X_2_test_scaled).to(device)\n",
    "NN_y_2_train_tensor = torch.Tensor(NN_y_2_train_scaled).to(device)\n",
    "NN_y_2_val_tensor = torch.Tensor(NN_y_2_val_scaled).to(device)"
   ]
  },
  {
   "cell_type": "code",
   "execution_count": 57,
   "metadata": {},
   "outputs": [
    {
     "data": {
      "text/plain": [
       "NN_512_5(\n",
       "  (hidden_1): Linear(in_features=672, out_features=512, bias=True)\n",
       "  (hidden_2): Linear(in_features=512, out_features=256, bias=True)\n",
       "  (hidden_3): Linear(in_features=256, out_features=128, bias=True)\n",
       "  (hidden_4): Linear(in_features=128, out_features=64, bias=True)\n",
       "  (hidden_5): Linear(in_features=64, out_features=32, bias=True)\n",
       "  (output): Linear(in_features=32, out_features=1, bias=True)\n",
       "  (dropout): Dropout(p=0.0, inplace=False)\n",
       ")"
      ]
     },
     "execution_count": 57,
     "metadata": {},
     "output_type": "execute_result"
    }
   ],
   "source": [
    "#Model initialization with random seed directly on top to guarantee it is applied in the same way to all models\n",
    "torch.manual_seed(42)\n",
    "TestModel2 = NN_512_5(NN_X_2_train_scaled_tensor.shape[1])\n",
    "TestModel2.to(device=device)"
   ]
  },
  {
   "cell_type": "code",
   "execution_count": 58,
   "metadata": {},
   "outputs": [
    {
     "name": "stdout",
     "output_type": "stream",
     "text": [
      "---------------------------------------------------\n",
      "Now training the model with the following parameteres:\n",
      "learning_rate = 0.01\n",
      "criterion = MSELoss()\n",
      "optimizer = Adam\n",
      "\n",
      "\n",
      "Epoch: 49, loss in training: 0.03347 loss in val: 0.03334\n",
      "Epoch: 99, loss in training: 0.03347 loss in val: 0.03333\n",
      "Epoch: 149, loss in training: 0.03347 loss in val: 0.03333\n",
      "Epoch: 199, loss in training: 0.03347 loss in val: 0.03333\n",
      "Epoch: 249, loss in training: 0.03347 loss in val: 0.03333\n",
      "Epoch: 299, loss in training: 0.03347 loss in val: 0.03333\n",
      "Epoch: 349, loss in training: 0.03347 loss in val: 0.03333\n"
     ]
    },
    {
     "ename": "KeyboardInterrupt",
     "evalue": "",
     "output_type": "error",
     "traceback": [
      "\u001b[0;31m---------------------------------------------------------------------------\u001b[0m",
      "\u001b[0;31mKeyboardInterrupt\u001b[0m                         Traceback (most recent call last)",
      "\u001b[1;32m/Users/FHKrieg/Projekte/DeepLearningAbschluss/EDA2.ipynb Cell 91'\u001b[0m in \u001b[0;36m<cell line: 1>\u001b[0;34m()\u001b[0m\n\u001b[0;32m----> <a href='vscode-notebook-cell:/Users/FHKrieg/Projekte/DeepLearningAbschluss/EDA2.ipynb#ch0000092?line=0'>1</a>\u001b[0m rs2\u001b[39m=\u001b[39m  Grid_Search_NN(TestModel2, NN_experiments[\u001b[39m\"\u001b[39;49m\u001b[39mparameters\u001b[39;49m\u001b[39m\"\u001b[39;49m], NN_y_2_train,NN_y_2_val, NN_y_2_train_tensor,NN_y_2_val_tensor,NN_X_2_train_scaled_tensor,NN_X_2_val_scaled_tensor, y_scaler2, \u001b[39m500\u001b[39;49m)\n",
      "\u001b[1;32m/Users/FHKrieg/Projekte/DeepLearningAbschluss/EDA2.ipynb Cell 69'\u001b[0m in \u001b[0;36mGrid_Search_NN\u001b[0;34m(model_train, parameters, y_train, y_val, y_train_tensor_scaled, y_val_tensor_scaled, X_train_tensor, X_val_tensor, y_scaler, epochs)\u001b[0m\n\u001b[1;32m     <a href='vscode-notebook-cell:/Users/FHKrieg/Projekte/DeepLearningAbschluss/EDA2.ipynb#ch0000067?line=24'>25</a>\u001b[0m \u001b[39mprint\u001b[39m()\n\u001b[1;32m     <a href='vscode-notebook-cell:/Users/FHKrieg/Projekte/DeepLearningAbschluss/EDA2.ipynb#ch0000067?line=25'>26</a>\u001b[0m \u001b[39mprint\u001b[39m()\n\u001b[0;32m---> <a href='vscode-notebook-cell:/Users/FHKrieg/Projekte/DeepLearningAbschluss/EDA2.ipynb#ch0000067?line=26'>27</a>\u001b[0m best_rmse_val, best_loss_val, best_model, best_epoch, loss_train, loss_val \u001b[39m=\u001b[39m training_the_model(model,y_train,y_val, y_train_tensor_scaled,y_val_tensor_scaled,X_train_tensor,X_val_tensor, optimizer, criterion, y_scaler, epochs)\n\u001b[1;32m     <a href='vscode-notebook-cell:/Users/FHKrieg/Projekte/DeepLearningAbschluss/EDA2.ipynb#ch0000067?line=27'>28</a>\u001b[0m \u001b[39mif\u001b[39;00m best_rmse_val\u001b[39m<\u001b[39m best_rmse:\n\u001b[1;32m     <a href='vscode-notebook-cell:/Users/FHKrieg/Projekte/DeepLearningAbschluss/EDA2.ipynb#ch0000067?line=28'>29</a>\u001b[0m     best_rmse \u001b[39m=\u001b[39m best_rmse_val\n",
      "\u001b[1;32m/Users/FHKrieg/Projekte/DeepLearningAbschluss/EDA2.ipynb Cell 71'\u001b[0m in \u001b[0;36mtraining_the_model\u001b[0;34m(model, y_train, y_val, y_train_tensor_scaled, y_val_tensor_scaled, X_train_tensor, X_val_tensor, optimizer, criterion, y_scaler, epochs)\u001b[0m\n\u001b[1;32m     <a href='vscode-notebook-cell:/Users/FHKrieg/Projekte/DeepLearningAbschluss/EDA2.ipynb#ch0000069?line=13'>14</a>\u001b[0m optimizer\u001b[39m.\u001b[39mzero_grad()\n\u001b[1;32m     <a href='vscode-notebook-cell:/Users/FHKrieg/Projekte/DeepLearningAbschluss/EDA2.ipynb#ch0000069?line=14'>15</a>\u001b[0m loss_train_c \u001b[39m=\u001b[39m criterion(y_train_pred, y_train_tensor_scaled)\n\u001b[0;32m---> <a href='vscode-notebook-cell:/Users/FHKrieg/Projekte/DeepLearningAbschluss/EDA2.ipynb#ch0000069?line=16'>17</a>\u001b[0m loss_train_c\u001b[39m.\u001b[39;49mbackward()\n\u001b[1;32m     <a href='vscode-notebook-cell:/Users/FHKrieg/Projekte/DeepLearningAbschluss/EDA2.ipynb#ch0000069?line=18'>19</a>\u001b[0m optimizer\u001b[39m.\u001b[39mstep()\n\u001b[1;32m     <a href='vscode-notebook-cell:/Users/FHKrieg/Projekte/DeepLearningAbschluss/EDA2.ipynb#ch0000069?line=20'>21</a>\u001b[0m model\u001b[39m.\u001b[39meval()\n",
      "File \u001b[0;32m/opt/homebrew/anaconda3/envs/torch-nightly/lib/python3.8/site-packages/torch/_tensor.py:401\u001b[0m, in \u001b[0;36mTensor.backward\u001b[0;34m(self, gradient, retain_graph, create_graph, inputs)\u001b[0m\n\u001b[1;32m    392\u001b[0m \u001b[39mif\u001b[39;00m has_torch_function_unary(\u001b[39mself\u001b[39m):\n\u001b[1;32m    393\u001b[0m     \u001b[39mreturn\u001b[39;00m handle_torch_function(\n\u001b[1;32m    394\u001b[0m         Tensor\u001b[39m.\u001b[39mbackward,\n\u001b[1;32m    395\u001b[0m         (\u001b[39mself\u001b[39m,),\n\u001b[0;32m   (...)\u001b[0m\n\u001b[1;32m    399\u001b[0m         create_graph\u001b[39m=\u001b[39mcreate_graph,\n\u001b[1;32m    400\u001b[0m         inputs\u001b[39m=\u001b[39minputs)\n\u001b[0;32m--> 401\u001b[0m torch\u001b[39m.\u001b[39;49mautograd\u001b[39m.\u001b[39;49mbackward(\u001b[39mself\u001b[39;49m, gradient, retain_graph, create_graph, inputs\u001b[39m=\u001b[39;49minputs)\n",
      "File \u001b[0;32m/opt/homebrew/anaconda3/envs/torch-nightly/lib/python3.8/site-packages/torch/autograd/__init__.py:191\u001b[0m, in \u001b[0;36mbackward\u001b[0;34m(tensors, grad_tensors, retain_graph, create_graph, grad_variables, inputs)\u001b[0m\n\u001b[1;32m    186\u001b[0m     retain_graph \u001b[39m=\u001b[39m create_graph\n\u001b[1;32m    188\u001b[0m \u001b[39m# The reason we repeat same the comment below is that\u001b[39;00m\n\u001b[1;32m    189\u001b[0m \u001b[39m# some Python versions print out the first line of a multi-line function\u001b[39;00m\n\u001b[1;32m    190\u001b[0m \u001b[39m# calls in the traceback and some print out the last line\u001b[39;00m\n\u001b[0;32m--> 191\u001b[0m Variable\u001b[39m.\u001b[39;49m_execution_engine\u001b[39m.\u001b[39;49mrun_backward(  \u001b[39m# Calls into the C++ engine to run the backward pass\u001b[39;49;00m\n\u001b[1;32m    192\u001b[0m     tensors, grad_tensors_, retain_graph, create_graph, inputs,\n\u001b[1;32m    193\u001b[0m     allow_unreachable\u001b[39m=\u001b[39;49m\u001b[39mTrue\u001b[39;49;00m, accumulate_grad\u001b[39m=\u001b[39;49m\u001b[39mTrue\u001b[39;49;00m)\n",
      "\u001b[0;31mKeyboardInterrupt\u001b[0m: "
     ]
    }
   ],
   "source": [
    "rs2=  Grid_Search_NN(TestModel2, NN_experiments[\"parameters\"], NN_y_2_train,NN_y_2_val, NN_y_2_train_tensor,NN_y_2_val_tensor,NN_X_2_train_scaled_tensor,NN_X_2_val_scaled_tensor, y_scaler2, 500)"
   ]
  },
  {
   "cell_type": "code",
   "execution_count": 75,
   "metadata": {},
   "outputs": [
    {
     "data": {
      "text/plain": [
       "649494.041932695"
      ]
     },
     "execution_count": 75,
     "metadata": {},
     "output_type": "execute_result"
    }
   ],
   "source": [
    "math.sqrt(rs2[\"best_rmse\"])"
   ]
  },
  {
   "cell_type": "markdown",
   "metadata": {},
   "source": [
    "[1] https://www.smh.com.au/property/news/it-s-crazy-sydney-house-prices-surge-55-per-cent-in-less-than-three-years-20220210-p59vck.html, 15.06.2022.  \n",
    "[2] https://www.cnbc.com/2017/06/23/how-much-housing-prices-have-risen-since-1940.html, 15.06.2022."
   ]
  },
  {
   "cell_type": "markdown",
   "metadata": {},
   "source": []
  }
 ],
 "metadata": {
  "kernelspec": {
   "display_name": "Python 3.8.13 ('torch-nightly')",
   "language": "python",
   "name": "python3"
  },
  "language_info": {
   "codemirror_mode": {
    "name": "ipython",
    "version": 3
   },
   "file_extension": ".py",
   "mimetype": "text/x-python",
   "name": "python",
   "nbconvert_exporter": "python",
   "pygments_lexer": "ipython3",
   "version": "3.8.13"
  },
  "orig_nbformat": 4,
  "vscode": {
   "interpreter": {
    "hash": "2e6b166cedfcc4927a2a573642eb9099df10bb1b5ef275baa0f9bbe22fd443fe"
   }
  }
 },
 "nbformat": 4,
 "nbformat_minor": 2
}
