{
 "cells": [
  {
   "cell_type": "markdown",
   "metadata": {},
   "source": [
    "# Sydney Real Estate"
   ]
  },
  {
   "cell_type": "markdown",
   "metadata": {},
   "source": [
    "The SurfIntoYourHome LLC from Sydney wants to offer a new service to their clients. Similar to the competition from overseas, the company wants to offer a price estimate of a building to their customers. This is supposed to help the customer evaluate wether the pricing of a building is fair or not. In order for the prediction to work the company has provided a dataset under the CC0: Public Domain License from https://www.kaggle.com/datasets/mihirhalai/sydney-house-prices?select=SydneyHousePrices.csv which has been scraped from the web.\n"
   ]
  },
  {
   "cell_type": "code",
   "execution_count": 1,
   "metadata": {
    "vscode": {
     "languageId": "python"
    }
   },
   "outputs": [],
   "source": [
    "import pandas as pd\n",
    "import numpy as np\n",
    "import seaborn as sns\n",
    "sns.set(rc={'figure.figsize':(20,10)})"
   ]
  },
  {
   "cell_type": "code",
   "execution_count": 2,
   "metadata": {
    "vscode": {
     "languageId": "python"
    }
   },
   "outputs": [],
   "source": [
    "data = pd.read_csv(\"/home/jovyan/DeepLearningExperiment/data/SydneyHousePrices.csv\")"
   ]
  },
  {
   "cell_type": "code",
   "execution_count": 3,
   "metadata": {
    "vscode": {
     "languageId": "python"
    }
   },
   "outputs": [
    {
     "data": {
      "text/plain": [
       "(199504, 9)"
      ]
     },
     "execution_count": 3,
     "metadata": {},
     "output_type": "execute_result"
    }
   ],
   "source": [
    "data.shape"
   ]
  },
  {
   "cell_type": "code",
   "execution_count": 4,
   "metadata": {
    "vscode": {
     "languageId": "python"
    }
   },
   "outputs": [
    {
     "data": {
      "text/html": [
       "<div>\n",
       "<style scoped>\n",
       "    .dataframe tbody tr th:only-of-type {\n",
       "        vertical-align: middle;\n",
       "    }\n",
       "\n",
       "    .dataframe tbody tr th {\n",
       "        vertical-align: top;\n",
       "    }\n",
       "\n",
       "    .dataframe thead th {\n",
       "        text-align: right;\n",
       "    }\n",
       "</style>\n",
       "<table border=\"1\" class=\"dataframe\">\n",
       "  <thead>\n",
       "    <tr style=\"text-align: right;\">\n",
       "      <th></th>\n",
       "      <th>Date</th>\n",
       "      <th>Id</th>\n",
       "      <th>suburb</th>\n",
       "      <th>postalCode</th>\n",
       "      <th>sellPrice</th>\n",
       "      <th>bed</th>\n",
       "      <th>bath</th>\n",
       "      <th>car</th>\n",
       "      <th>propType</th>\n",
       "    </tr>\n",
       "  </thead>\n",
       "  <tbody>\n",
       "    <tr>\n",
       "      <th>0</th>\n",
       "      <td>2019-06-19</td>\n",
       "      <td>1</td>\n",
       "      <td>Avalon Beach</td>\n",
       "      <td>2107</td>\n",
       "      <td>1210000</td>\n",
       "      <td>4.0</td>\n",
       "      <td>2</td>\n",
       "      <td>2.0</td>\n",
       "      <td>house</td>\n",
       "    </tr>\n",
       "    <tr>\n",
       "      <th>1</th>\n",
       "      <td>2019-06-13</td>\n",
       "      <td>2</td>\n",
       "      <td>Avalon Beach</td>\n",
       "      <td>2107</td>\n",
       "      <td>2250000</td>\n",
       "      <td>4.0</td>\n",
       "      <td>3</td>\n",
       "      <td>4.0</td>\n",
       "      <td>house</td>\n",
       "    </tr>\n",
       "    <tr>\n",
       "      <th>2</th>\n",
       "      <td>2019-06-07</td>\n",
       "      <td>3</td>\n",
       "      <td>Whale Beach</td>\n",
       "      <td>2107</td>\n",
       "      <td>2920000</td>\n",
       "      <td>3.0</td>\n",
       "      <td>3</td>\n",
       "      <td>2.0</td>\n",
       "      <td>house</td>\n",
       "    </tr>\n",
       "    <tr>\n",
       "      <th>3</th>\n",
       "      <td>2019-05-28</td>\n",
       "      <td>4</td>\n",
       "      <td>Avalon Beach</td>\n",
       "      <td>2107</td>\n",
       "      <td>1530000</td>\n",
       "      <td>3.0</td>\n",
       "      <td>1</td>\n",
       "      <td>2.0</td>\n",
       "      <td>house</td>\n",
       "    </tr>\n",
       "    <tr>\n",
       "      <th>4</th>\n",
       "      <td>2019-05-22</td>\n",
       "      <td>5</td>\n",
       "      <td>Whale Beach</td>\n",
       "      <td>2107</td>\n",
       "      <td>8000000</td>\n",
       "      <td>5.0</td>\n",
       "      <td>4</td>\n",
       "      <td>4.0</td>\n",
       "      <td>house</td>\n",
       "    </tr>\n",
       "  </tbody>\n",
       "</table>\n",
       "</div>"
      ],
      "text/plain": [
       "         Date  Id        suburb  postalCode  sellPrice  bed  bath  car  \\\n",
       "0  2019-06-19   1  Avalon Beach        2107    1210000  4.0     2  2.0   \n",
       "1  2019-06-13   2  Avalon Beach        2107    2250000  4.0     3  4.0   \n",
       "2  2019-06-07   3   Whale Beach        2107    2920000  3.0     3  2.0   \n",
       "3  2019-05-28   4  Avalon Beach        2107    1530000  3.0     1  2.0   \n",
       "4  2019-05-22   5   Whale Beach        2107    8000000  5.0     4  4.0   \n",
       "\n",
       "  propType  \n",
       "0    house  \n",
       "1    house  \n",
       "2    house  \n",
       "3    house  \n",
       "4    house  "
      ]
     },
     "execution_count": 4,
     "metadata": {},
     "output_type": "execute_result"
    }
   ],
   "source": [
    "data.head()"
   ]
  },
  {
   "cell_type": "markdown",
   "metadata": {},
   "source": [
    "The dataset contains 199504 rows and has 9 columns."
   ]
  },
  {
   "cell_type": "code",
   "execution_count": 5,
   "metadata": {
    "vscode": {
     "languageId": "python"
    }
   },
   "outputs": [
    {
     "data": {
      "text/plain": [
       "2147483647"
      ]
     },
     "execution_count": 5,
     "metadata": {},
     "output_type": "execute_result"
    }
   ],
   "source": [
    "data[\"sellPrice\"].max()"
   ]
  },
  {
   "cell_type": "code",
   "execution_count": 6,
   "metadata": {
    "vscode": {
     "languageId": "python"
    }
   },
   "outputs": [
    {
     "data": {
      "text/html": [
       "<div>\n",
       "<style scoped>\n",
       "    .dataframe tbody tr th:only-of-type {\n",
       "        vertical-align: middle;\n",
       "    }\n",
       "\n",
       "    .dataframe tbody tr th {\n",
       "        vertical-align: top;\n",
       "    }\n",
       "\n",
       "    .dataframe thead th {\n",
       "        text-align: right;\n",
       "    }\n",
       "</style>\n",
       "<table border=\"1\" class=\"dataframe\">\n",
       "  <thead>\n",
       "    <tr style=\"text-align: right;\">\n",
       "      <th></th>\n",
       "      <th>Id</th>\n",
       "      <th>postalCode</th>\n",
       "      <th>sellPrice</th>\n",
       "      <th>bed</th>\n",
       "      <th>bath</th>\n",
       "      <th>car</th>\n",
       "    </tr>\n",
       "  </thead>\n",
       "  <tbody>\n",
       "    <tr>\n",
       "      <th>count</th>\n",
       "      <td>199504.00000</td>\n",
       "      <td>199504.000000</td>\n",
       "      <td>1.995040e+05</td>\n",
       "      <td>199350.000000</td>\n",
       "      <td>199504.000000</td>\n",
       "      <td>181353.000000</td>\n",
       "    </tr>\n",
       "    <tr>\n",
       "      <th>mean</th>\n",
       "      <td>99752.50000</td>\n",
       "      <td>2196.379155</td>\n",
       "      <td>1.269776e+06</td>\n",
       "      <td>3.516479</td>\n",
       "      <td>1.890669</td>\n",
       "      <td>1.936224</td>\n",
       "    </tr>\n",
       "    <tr>\n",
       "      <th>std</th>\n",
       "      <td>57591.98839</td>\n",
       "      <td>193.053467</td>\n",
       "      <td>6.948239e+06</td>\n",
       "      <td>1.066555</td>\n",
       "      <td>0.926001</td>\n",
       "      <td>1.060237</td>\n",
       "    </tr>\n",
       "    <tr>\n",
       "      <th>min</th>\n",
       "      <td>1.00000</td>\n",
       "      <td>2000.000000</td>\n",
       "      <td>1.000000e+00</td>\n",
       "      <td>1.000000</td>\n",
       "      <td>1.000000</td>\n",
       "      <td>1.000000</td>\n",
       "    </tr>\n",
       "    <tr>\n",
       "      <th>25%</th>\n",
       "      <td>49876.75000</td>\n",
       "      <td>2082.000000</td>\n",
       "      <td>7.200000e+05</td>\n",
       "      <td>3.000000</td>\n",
       "      <td>1.000000</td>\n",
       "      <td>1.000000</td>\n",
       "    </tr>\n",
       "    <tr>\n",
       "      <th>50%</th>\n",
       "      <td>99752.50000</td>\n",
       "      <td>2144.000000</td>\n",
       "      <td>9.850000e+05</td>\n",
       "      <td>3.000000</td>\n",
       "      <td>2.000000</td>\n",
       "      <td>2.000000</td>\n",
       "    </tr>\n",
       "    <tr>\n",
       "      <th>75%</th>\n",
       "      <td>149628.25000</td>\n",
       "      <td>2211.000000</td>\n",
       "      <td>1.475000e+06</td>\n",
       "      <td>4.000000</td>\n",
       "      <td>2.000000</td>\n",
       "      <td>2.000000</td>\n",
       "    </tr>\n",
       "    <tr>\n",
       "      <th>max</th>\n",
       "      <td>199504.00000</td>\n",
       "      <td>4878.000000</td>\n",
       "      <td>2.147484e+09</td>\n",
       "      <td>99.000000</td>\n",
       "      <td>99.000000</td>\n",
       "      <td>41.000000</td>\n",
       "    </tr>\n",
       "  </tbody>\n",
       "</table>\n",
       "</div>"
      ],
      "text/plain": [
       "                 Id     postalCode     sellPrice            bed  \\\n",
       "count  199504.00000  199504.000000  1.995040e+05  199350.000000   \n",
       "mean    99752.50000    2196.379155  1.269776e+06       3.516479   \n",
       "std     57591.98839     193.053467  6.948239e+06       1.066555   \n",
       "min         1.00000    2000.000000  1.000000e+00       1.000000   \n",
       "25%     49876.75000    2082.000000  7.200000e+05       3.000000   \n",
       "50%     99752.50000    2144.000000  9.850000e+05       3.000000   \n",
       "75%    149628.25000    2211.000000  1.475000e+06       4.000000   \n",
       "max    199504.00000    4878.000000  2.147484e+09      99.000000   \n",
       "\n",
       "                bath            car  \n",
       "count  199504.000000  181353.000000  \n",
       "mean        1.890669       1.936224  \n",
       "std         0.926001       1.060237  \n",
       "min         1.000000       1.000000  \n",
       "25%         1.000000       1.000000  \n",
       "50%         2.000000       2.000000  \n",
       "75%         2.000000       2.000000  \n",
       "max        99.000000      41.000000  "
      ]
     },
     "execution_count": 6,
     "metadata": {},
     "output_type": "execute_result"
    }
   ],
   "source": [
    "data.describe()"
   ]
  },
  {
   "cell_type": "markdown",
   "metadata": {},
   "source": [
    "The dataset contains property that has been sold for 1 AUD up to 2 billion dollar. This is clearly a mistake and during the data cleaning those extreme values will be removed. the lower values for bedrooms, bathrooms and car parking spots seem plausible as they are all 1. However, the max values for bed and bathrooms of 99 seems implausible. The same applies for the car parking with 41. Even if those values are true the company is focused on singles and families and not real estate developers, therefor those values can be excluded from the prediction."
   ]
  },
  {
   "cell_type": "markdown",
   "metadata": {},
   "source": [
    "For this purpose the dataset will be filtered to only keep listings with a price lower than or equal to 10 Mio AUD. For the bedrooms, bathrooms and car parking lots a filter of 10 is applied. "
   ]
  },
  {
   "cell_type": "code",
   "execution_count": 7,
   "metadata": {
    "vscode": {
     "languageId": "python"
    }
   },
   "outputs": [],
   "source": [
    "data_filtered = data[data[\"sellPrice\"]<= 10000000]\n",
    "data_filtered = data_filtered[data_filtered[\"bed\"]<= 10]\n",
    "data_filtered = data_filtered[data_filtered[\"bath\"]<= 10]\n",
    "data_filtered = data_filtered[data_filtered[\"car\"]<= 10]"
   ]
  },
  {
   "cell_type": "code",
   "execution_count": 8,
   "metadata": {
    "vscode": {
     "languageId": "python"
    }
   },
   "outputs": [
    {
     "data": {
      "text/html": [
       "<div>\n",
       "<style scoped>\n",
       "    .dataframe tbody tr th:only-of-type {\n",
       "        vertical-align: middle;\n",
       "    }\n",
       "\n",
       "    .dataframe tbody tr th {\n",
       "        vertical-align: top;\n",
       "    }\n",
       "\n",
       "    .dataframe thead th {\n",
       "        text-align: right;\n",
       "    }\n",
       "</style>\n",
       "<table border=\"1\" class=\"dataframe\">\n",
       "  <thead>\n",
       "    <tr style=\"text-align: right;\">\n",
       "      <th></th>\n",
       "      <th>Id</th>\n",
       "      <th>postalCode</th>\n",
       "      <th>sellPrice</th>\n",
       "      <th>bed</th>\n",
       "      <th>bath</th>\n",
       "      <th>car</th>\n",
       "    </tr>\n",
       "  </thead>\n",
       "  <tbody>\n",
       "    <tr>\n",
       "      <th>count</th>\n",
       "      <td>180856.000000</td>\n",
       "      <td>180856.000000</td>\n",
       "      <td>1.808560e+05</td>\n",
       "      <td>180856.000000</td>\n",
       "      <td>180856.000000</td>\n",
       "      <td>180856.000000</td>\n",
       "    </tr>\n",
       "    <tr>\n",
       "      <th>mean</th>\n",
       "      <td>99088.106886</td>\n",
       "      <td>2204.848382</td>\n",
       "      <td>1.238545e+06</td>\n",
       "      <td>3.576182</td>\n",
       "      <td>1.933649</td>\n",
       "      <td>1.923475</td>\n",
       "    </tr>\n",
       "    <tr>\n",
       "      <th>std</th>\n",
       "      <td>57869.443012</td>\n",
       "      <td>194.464316</td>\n",
       "      <td>8.548331e+05</td>\n",
       "      <td>0.963020</td>\n",
       "      <td>0.864519</td>\n",
       "      <td>0.987800</td>\n",
       "    </tr>\n",
       "    <tr>\n",
       "      <th>min</th>\n",
       "      <td>1.000000</td>\n",
       "      <td>2000.000000</td>\n",
       "      <td>1.000000e+00</td>\n",
       "      <td>1.000000</td>\n",
       "      <td>1.000000</td>\n",
       "      <td>1.000000</td>\n",
       "    </tr>\n",
       "    <tr>\n",
       "      <th>25%</th>\n",
       "      <td>48444.750000</td>\n",
       "      <td>2092.000000</td>\n",
       "      <td>7.200000e+05</td>\n",
       "      <td>3.000000</td>\n",
       "      <td>1.000000</td>\n",
       "      <td>1.000000</td>\n",
       "    </tr>\n",
       "    <tr>\n",
       "      <th>50%</th>\n",
       "      <td>99005.500000</td>\n",
       "      <td>2148.000000</td>\n",
       "      <td>9.810000e+05</td>\n",
       "      <td>3.000000</td>\n",
       "      <td>2.000000</td>\n",
       "      <td>2.000000</td>\n",
       "    </tr>\n",
       "    <tr>\n",
       "      <th>75%</th>\n",
       "      <td>149570.250000</td>\n",
       "      <td>2213.000000</td>\n",
       "      <td>1.480000e+06</td>\n",
       "      <td>4.000000</td>\n",
       "      <td>2.000000</td>\n",
       "      <td>2.000000</td>\n",
       "    </tr>\n",
       "    <tr>\n",
       "      <th>max</th>\n",
       "      <td>199504.000000</td>\n",
       "      <td>4878.000000</td>\n",
       "      <td>1.000000e+07</td>\n",
       "      <td>10.000000</td>\n",
       "      <td>10.000000</td>\n",
       "      <td>10.000000</td>\n",
       "    </tr>\n",
       "  </tbody>\n",
       "</table>\n",
       "</div>"
      ],
      "text/plain": [
       "                  Id     postalCode     sellPrice            bed  \\\n",
       "count  180856.000000  180856.000000  1.808560e+05  180856.000000   \n",
       "mean    99088.106886    2204.848382  1.238545e+06       3.576182   \n",
       "std     57869.443012     194.464316  8.548331e+05       0.963020   \n",
       "min         1.000000    2000.000000  1.000000e+00       1.000000   \n",
       "25%     48444.750000    2092.000000  7.200000e+05       3.000000   \n",
       "50%     99005.500000    2148.000000  9.810000e+05       3.000000   \n",
       "75%    149570.250000    2213.000000  1.480000e+06       4.000000   \n",
       "max    199504.000000    4878.000000  1.000000e+07      10.000000   \n",
       "\n",
       "                bath            car  \n",
       "count  180856.000000  180856.000000  \n",
       "mean        1.933649       1.923475  \n",
       "std         0.864519       0.987800  \n",
       "min         1.000000       1.000000  \n",
       "25%         1.000000       1.000000  \n",
       "50%         2.000000       2.000000  \n",
       "75%         2.000000       2.000000  \n",
       "max        10.000000      10.000000  "
      ]
     },
     "execution_count": 8,
     "metadata": {},
     "output_type": "execute_result"
    }
   ],
   "source": [
    "data_filtered.describe()"
   ]
  },
  {
   "cell_type": "markdown",
   "metadata": {},
   "source": [
    "The resulting dataset appears to be more plausible now. The average real estate object has now a price of roughly 1.2 million AUD, which contains 3.5 bedrooms, almost 2 bathrooms and 2 car parking plots. "
   ]
  },
  {
   "cell_type": "markdown",
   "metadata": {},
   "source": [
    "As a next step the year of the sale will be extracted as feature. The prices in the sydney are mostlikely be correlated to the year of the sale.\n"
   ]
  },
  {
   "cell_type": "code",
   "execution_count": 9,
   "metadata": {},
   "outputs": [
    {
     "data": {
      "text/plain": [
       "str"
      ]
     },
     "execution_count": 9,
     "metadata": {},
     "output_type": "execute_result"
    }
   ],
   "source": [
    "type(data_filtered[\"Date\"][0])"
   ]
  },
  {
   "cell_type": "markdown",
   "metadata": {},
   "source": [
    "The date is saved as string so the year can be extracted rather easily."
   ]
  },
  {
   "cell_type": "code",
   "execution_count": 10,
   "metadata": {},
   "outputs": [],
   "source": [
    "data_filtered[\"year\"] = pd.to_numeric(data_filtered[\"Date\"].str[:4])"
   ]
  },
  {
   "cell_type": "code",
   "execution_count": 11,
   "metadata": {},
   "outputs": [
    {
     "data": {
      "text/plain": [
       "year\n",
       "2000        1\n",
       "2001        8\n",
       "2002        3\n",
       "2003       13\n",
       "2004       57\n",
       "2005      139\n",
       "2006      168\n",
       "2007      694\n",
       "2008     3292\n",
       "2009     6980\n",
       "2010     8029\n",
       "2011     9037\n",
       "2012    10484\n",
       "2013    15881\n",
       "2014    20869\n",
       "2015    24024\n",
       "2016    24231\n",
       "2017    26155\n",
       "2018    21971\n",
       "2019     8820\n",
       "Name: sellPrice, dtype: int64"
      ]
     },
     "execution_count": 11,
     "metadata": {},
     "output_type": "execute_result"
    }
   ],
   "source": [
    "data_filtered.groupby(\"year\")[\"sellPrice\"].count()"
   ]
  },
  {
   "cell_type": "markdown",
   "metadata": {},
   "source": [
    "Becasue most of the values are in the range from 2009 to 2019, all values before that will be excluded. 2009 will be set as year 1 for the prediction. The idea of setting the date as this type of vaiable is that in general the housing prices are increasing year over year [2]. This is not always true especially in times of crises the prices can drop from the year before. However, most of the time the prices of houses increase year over year. "
   ]
  },
  {
   "cell_type": "code",
   "execution_count": 12,
   "metadata": {},
   "outputs": [],
   "source": [
    "data_filtered = data_filtered[data_filtered[\"year\"]>=2009]"
   ]
  },
  {
   "cell_type": "code",
   "execution_count": 13,
   "metadata": {},
   "outputs": [],
   "source": [
    "data_filtered[\"year_norm\"] = data_filtered[\"year\"] -2008"
   ]
  },
  {
   "cell_type": "code",
   "execution_count": 14,
   "metadata": {},
   "outputs": [
    {
     "data": {
      "text/plain": [
       "<AxesSubplot:xlabel='year', ylabel='sellPrice'>"
      ]
     },
     "execution_count": 14,
     "metadata": {},
     "output_type": "execute_result"
    },
    {
     "data": {
      "image/png": "[encoded data removed]",
      "text/plain": [
       "<Figure size 432x288 with 1 Axes>"
      ]
     },
     "metadata": {
      "needs_background": "light"
     },
     "output_type": "display_data"
    }
   ],
   "source": [
    "sns.lineplot(x=data_filtered.groupby(\"year\")[\"sellPrice\"].mean().round(0).index[:], y= data_filtered.groupby(\"year\")[\"sellPrice\"].mean().round(0)[:])\n"
   ]
  },
  {
   "cell_type": "markdown",
   "metadata": {},
   "source": [
    "The grafic above shows the varation of the average price over the years."
   ]
  },
  {
   "cell_type": "markdown",
   "metadata": {},
   "source": [
    "Next the property types will be evaluated."
   ]
  },
  {
   "cell_type": "code",
   "execution_count": 15,
   "metadata": {},
   "outputs": [
    {
     "data": {
      "text/plain": [
       "propType\n",
       "acreage                     10\n",
       "duplex/semi-detached      6024\n",
       "house                   149340\n",
       "other                      189\n",
       "terrace                    723\n",
       "townhouse                14691\n",
       "villa                     5484\n",
       "warehouse                   20\n",
       "Name: propType, dtype: int64"
      ]
     },
     "execution_count": 15,
     "metadata": {},
     "output_type": "execute_result"
    }
   ],
   "source": [
    "data_filtered.groupby(\"propType\")[\"propType\"].count()"
   ]
  },
  {
   "cell_type": "markdown",
   "metadata": {},
   "source": [
    "As mentioned before the client is manly interessted in selling housing to people who will actually move in to the property. Therefor warehouses and acreage can be removed as they are not important for this business goal. In addition to this the category other will be removed. THis leaves the property types \"duplex/semi-detached\",\"house\",\"townhouse\",\"villa\", \"terrace\"."
   ]
  },
  {
   "cell_type": "code",
   "execution_count": 16,
   "metadata": {},
   "outputs": [],
   "source": [
    "data_filtered = data_filtered[data_filtered[\"propType\"].isin([\"duplex/semi-detached\",\"house\",\"townhouse\",\"villa\", \"terrace\"])]"
   ]
  },
  {
   "cell_type": "markdown",
   "metadata": {},
   "source": [
    "As a last step the location will be taken into consideration. Location is most likely one key factor of the price of housing. There are two possible features that can be used to take this into consideration. Option one is to use the suburb. The problem here is that there are 669 unique suburbs in the dataset. This is most likely to fine in granularity. Therefor two datasets will be generated. One with the raw suburbs as input and one with the suburbs clustered with the average number of bedrooms, bathrooms and average price of the suburb. The second option from the dataset is to use teh ZIP code. This however is not as fine in granularity and therefor most likely not as well suited for this analysis. ZIP codes will be dropped later."
   ]
  },
  {
   "cell_type": "code",
   "execution_count": 17,
   "metadata": {},
   "outputs": [],
   "source": [
    "\n",
    "data_all_suburbs = pd.get_dummies(data_filtered,drop_first=True, columns=[\"propType\",\"suburb\"])\n",
    "data_all_suburbs_final = data_all_suburbs.dropna(how=\"any\")"
   ]
  },
  {
   "cell_type": "code",
   "execution_count": 18,
   "metadata": {},
   "outputs": [
    {
     "data": {
      "text/plain": [
       "(176262, 681)"
      ]
     },
     "execution_count": 18,
     "metadata": {},
     "output_type": "execute_result"
    }
   ],
   "source": [
    "data_all_suburbs_final.shape"
   ]
  },
  {
   "cell_type": "markdown",
   "metadata": {},
   "source": [
    "This is the first dataset for experimentation with all suburbs as dummy and all the NA values removed, resulting in a dataset with 176,262 properties for the models to train on. It is made up of 681 features."
   ]
  },
  {
   "cell_type": "code",
   "execution_count": 19,
   "metadata": {},
   "outputs": [
    {
     "name": "stderr",
     "output_type": "stream",
     "text": [
      "/tmp/ipykernel_62/33837120.py:1: FutureWarning: Indexing with multiple keys (implicitly converted to a tuple of keys) will be deprecated, use a list instead.\n",
      "  suburbs = data_filtered.groupby(\"suburb\")[\"sellPrice\", \"bed\", \"bath\"].mean()\n"
     ]
    }
   ],
   "source": [
    "suburbs = data_filtered.groupby(\"suburb\")[\"sellPrice\", \"bed\", \"bath\"].mean()"
   ]
  },
  {
   "cell_type": "code",
   "execution_count": 20,
   "metadata": {},
   "outputs": [],
   "source": [
    "from sklearn.preprocessing import MinMaxScaler\n",
    "from sklearn.cluster import k_means\n",
    "scaler = MinMaxScaler()\n",
    "X = scaler.fit_transform(suburbs)\n",
    "Y = k_means(X,n_clusters=20, random_state = 42)"
   ]
  },
  {
   "cell_type": "code",
   "execution_count": 21,
   "metadata": {},
   "outputs": [],
   "source": [
    "suburbs[\"cluster\"] = Y[1]"
   ]
  },
  {
   "cell_type": "code",
   "execution_count": 22,
   "metadata": {},
   "outputs": [],
   "source": [
    "suburbs = suburbs.reset_index()"
   ]
  },
  {
   "cell_type": "code",
   "execution_count": 23,
   "metadata": {},
   "outputs": [],
   "source": [
    "suburbs.drop([\"sellPrice\", \"bed\", \"bath\"], axis=1, inplace=True)"
   ]
  },
  {
   "cell_type": "code",
   "execution_count": 24,
   "metadata": {},
   "outputs": [],
   "source": [
    "data_clustered_suburbs = data_filtered.merge(suburbs, on=\"suburb\")"
   ]
  },
  {
   "cell_type": "code",
   "execution_count": 25,
   "metadata": {},
   "outputs": [],
   "source": [
    "data_clustered_suburbs.drop([\"Date\",\"Id\",\"suburb\", \"postalCode\", \"year\"], axis=1,inplace=True)\n"
   ]
  },
  {
   "cell_type": "code",
   "execution_count": 26,
   "metadata": {},
   "outputs": [],
   "source": [
    "data_clustered_suburbs_final = pd.get_dummies(data_clustered_suburbs,drop_first=True, columns=[\"propType\",\"cluster\"] )"
   ]
  },
  {
   "cell_type": "code",
   "execution_count": 27,
   "metadata": {
    "vscode": {
     "languageId": "python"
    }
   },
   "outputs": [
    {
     "data": {
      "text/html": [
       "<div>\n",
       "<style scoped>\n",
       "    .dataframe tbody tr th:only-of-type {\n",
       "        vertical-align: middle;\n",
       "    }\n",
       "\n",
       "    .dataframe tbody tr th {\n",
       "        vertical-align: top;\n",
       "    }\n",
       "\n",
       "    .dataframe thead th {\n",
       "        text-align: right;\n",
       "    }\n",
       "</style>\n",
       "<table border=\"1\" class=\"dataframe\">\n",
       "  <thead>\n",
       "    <tr style=\"text-align: right;\">\n",
       "      <th></th>\n",
       "      <th>sellPrice</th>\n",
       "      <th>bed</th>\n",
       "      <th>bath</th>\n",
       "      <th>car</th>\n",
       "      <th>year_norm</th>\n",
       "      <th>propType_house</th>\n",
       "      <th>propType_terrace</th>\n",
       "      <th>propType_townhouse</th>\n",
       "      <th>propType_villa</th>\n",
       "      <th>cluster_1</th>\n",
       "      <th>...</th>\n",
       "      <th>cluster_10</th>\n",
       "      <th>cluster_11</th>\n",
       "      <th>cluster_12</th>\n",
       "      <th>cluster_13</th>\n",
       "      <th>cluster_14</th>\n",
       "      <th>cluster_15</th>\n",
       "      <th>cluster_16</th>\n",
       "      <th>cluster_17</th>\n",
       "      <th>cluster_18</th>\n",
       "      <th>cluster_19</th>\n",
       "    </tr>\n",
       "  </thead>\n",
       "  <tbody>\n",
       "    <tr>\n",
       "      <th>0</th>\n",
       "      <td>1210000</td>\n",
       "      <td>4.0</td>\n",
       "      <td>2</td>\n",
       "      <td>2.0</td>\n",
       "      <td>11</td>\n",
       "      <td>1</td>\n",
       "      <td>0</td>\n",
       "      <td>0</td>\n",
       "      <td>0</td>\n",
       "      <td>0</td>\n",
       "      <td>...</td>\n",
       "      <td>1</td>\n",
       "      <td>0</td>\n",
       "      <td>0</td>\n",
       "      <td>0</td>\n",
       "      <td>0</td>\n",
       "      <td>0</td>\n",
       "      <td>0</td>\n",
       "      <td>0</td>\n",
       "      <td>0</td>\n",
       "      <td>0</td>\n",
       "    </tr>\n",
       "    <tr>\n",
       "      <th>1</th>\n",
       "      <td>2250000</td>\n",
       "      <td>4.0</td>\n",
       "      <td>3</td>\n",
       "      <td>4.0</td>\n",
       "      <td>11</td>\n",
       "      <td>1</td>\n",
       "      <td>0</td>\n",
       "      <td>0</td>\n",
       "      <td>0</td>\n",
       "      <td>0</td>\n",
       "      <td>...</td>\n",
       "      <td>1</td>\n",
       "      <td>0</td>\n",
       "      <td>0</td>\n",
       "      <td>0</td>\n",
       "      <td>0</td>\n",
       "      <td>0</td>\n",
       "      <td>0</td>\n",
       "      <td>0</td>\n",
       "      <td>0</td>\n",
       "      <td>0</td>\n",
       "    </tr>\n",
       "    <tr>\n",
       "      <th>2</th>\n",
       "      <td>1530000</td>\n",
       "      <td>3.0</td>\n",
       "      <td>1</td>\n",
       "      <td>2.0</td>\n",
       "      <td>11</td>\n",
       "      <td>1</td>\n",
       "      <td>0</td>\n",
       "      <td>0</td>\n",
       "      <td>0</td>\n",
       "      <td>0</td>\n",
       "      <td>...</td>\n",
       "      <td>1</td>\n",
       "      <td>0</td>\n",
       "      <td>0</td>\n",
       "      <td>0</td>\n",
       "      <td>0</td>\n",
       "      <td>0</td>\n",
       "      <td>0</td>\n",
       "      <td>0</td>\n",
       "      <td>0</td>\n",
       "      <td>0</td>\n",
       "    </tr>\n",
       "    <tr>\n",
       "      <th>3</th>\n",
       "      <td>1510000</td>\n",
       "      <td>3.0</td>\n",
       "      <td>1</td>\n",
       "      <td>2.0</td>\n",
       "      <td>11</td>\n",
       "      <td>1</td>\n",
       "      <td>0</td>\n",
       "      <td>0</td>\n",
       "      <td>0</td>\n",
       "      <td>0</td>\n",
       "      <td>...</td>\n",
       "      <td>1</td>\n",
       "      <td>0</td>\n",
       "      <td>0</td>\n",
       "      <td>0</td>\n",
       "      <td>0</td>\n",
       "      <td>0</td>\n",
       "      <td>0</td>\n",
       "      <td>0</td>\n",
       "      <td>0</td>\n",
       "      <td>0</td>\n",
       "    </tr>\n",
       "    <tr>\n",
       "      <th>4</th>\n",
       "      <td>1500000</td>\n",
       "      <td>5.0</td>\n",
       "      <td>4</td>\n",
       "      <td>4.0</td>\n",
       "      <td>11</td>\n",
       "      <td>1</td>\n",
       "      <td>0</td>\n",
       "      <td>0</td>\n",
       "      <td>0</td>\n",
       "      <td>0</td>\n",
       "      <td>...</td>\n",
       "      <td>1</td>\n",
       "      <td>0</td>\n",
       "      <td>0</td>\n",
       "      <td>0</td>\n",
       "      <td>0</td>\n",
       "      <td>0</td>\n",
       "      <td>0</td>\n",
       "      <td>0</td>\n",
       "      <td>0</td>\n",
       "      <td>0</td>\n",
       "    </tr>\n",
       "    <tr>\n",
       "      <th>...</th>\n",
       "      <td>...</td>\n",
       "      <td>...</td>\n",
       "      <td>...</td>\n",
       "      <td>...</td>\n",
       "      <td>...</td>\n",
       "      <td>...</td>\n",
       "      <td>...</td>\n",
       "      <td>...</td>\n",
       "      <td>...</td>\n",
       "      <td>...</td>\n",
       "      <td>...</td>\n",
       "      <td>...</td>\n",
       "      <td>...</td>\n",
       "      <td>...</td>\n",
       "      <td>...</td>\n",
       "      <td>...</td>\n",
       "      <td>...</td>\n",
       "      <td>...</td>\n",
       "      <td>...</td>\n",
       "      <td>...</td>\n",
       "      <td>...</td>\n",
       "    </tr>\n",
       "    <tr>\n",
       "      <th>176257</th>\n",
       "      <td>1610000</td>\n",
       "      <td>5.0</td>\n",
       "      <td>3</td>\n",
       "      <td>6.0</td>\n",
       "      <td>8</td>\n",
       "      <td>1</td>\n",
       "      <td>0</td>\n",
       "      <td>0</td>\n",
       "      <td>0</td>\n",
       "      <td>0</td>\n",
       "      <td>...</td>\n",
       "      <td>0</td>\n",
       "      <td>0</td>\n",
       "      <td>0</td>\n",
       "      <td>0</td>\n",
       "      <td>0</td>\n",
       "      <td>0</td>\n",
       "      <td>0</td>\n",
       "      <td>0</td>\n",
       "      <td>0</td>\n",
       "      <td>1</td>\n",
       "    </tr>\n",
       "    <tr>\n",
       "      <th>176258</th>\n",
       "      <td>1330000</td>\n",
       "      <td>4.0</td>\n",
       "      <td>2</td>\n",
       "      <td>2.0</td>\n",
       "      <td>7</td>\n",
       "      <td>1</td>\n",
       "      <td>0</td>\n",
       "      <td>0</td>\n",
       "      <td>0</td>\n",
       "      <td>0</td>\n",
       "      <td>...</td>\n",
       "      <td>0</td>\n",
       "      <td>0</td>\n",
       "      <td>0</td>\n",
       "      <td>0</td>\n",
       "      <td>0</td>\n",
       "      <td>0</td>\n",
       "      <td>0</td>\n",
       "      <td>0</td>\n",
       "      <td>0</td>\n",
       "      <td>1</td>\n",
       "    </tr>\n",
       "    <tr>\n",
       "      <th>176259</th>\n",
       "      <td>1100000</td>\n",
       "      <td>5.0</td>\n",
       "      <td>3</td>\n",
       "      <td>2.0</td>\n",
       "      <td>7</td>\n",
       "      <td>1</td>\n",
       "      <td>0</td>\n",
       "      <td>0</td>\n",
       "      <td>0</td>\n",
       "      <td>0</td>\n",
       "      <td>...</td>\n",
       "      <td>0</td>\n",
       "      <td>0</td>\n",
       "      <td>0</td>\n",
       "      <td>0</td>\n",
       "      <td>0</td>\n",
       "      <td>0</td>\n",
       "      <td>0</td>\n",
       "      <td>0</td>\n",
       "      <td>0</td>\n",
       "      <td>1</td>\n",
       "    </tr>\n",
       "    <tr>\n",
       "      <th>176260</th>\n",
       "      <td>850000</td>\n",
       "      <td>4.0</td>\n",
       "      <td>2</td>\n",
       "      <td>2.0</td>\n",
       "      <td>6</td>\n",
       "      <td>1</td>\n",
       "      <td>0</td>\n",
       "      <td>0</td>\n",
       "      <td>0</td>\n",
       "      <td>0</td>\n",
       "      <td>...</td>\n",
       "      <td>0</td>\n",
       "      <td>0</td>\n",
       "      <td>0</td>\n",
       "      <td>0</td>\n",
       "      <td>0</td>\n",
       "      <td>0</td>\n",
       "      <td>0</td>\n",
       "      <td>0</td>\n",
       "      <td>0</td>\n",
       "      <td>1</td>\n",
       "    </tr>\n",
       "    <tr>\n",
       "      <th>176261</th>\n",
       "      <td>1611000</td>\n",
       "      <td>5.0</td>\n",
       "      <td>4</td>\n",
       "      <td>3.0</td>\n",
       "      <td>3</td>\n",
       "      <td>1</td>\n",
       "      <td>0</td>\n",
       "      <td>0</td>\n",
       "      <td>0</td>\n",
       "      <td>0</td>\n",
       "      <td>...</td>\n",
       "      <td>0</td>\n",
       "      <td>0</td>\n",
       "      <td>0</td>\n",
       "      <td>0</td>\n",
       "      <td>0</td>\n",
       "      <td>0</td>\n",
       "      <td>0</td>\n",
       "      <td>0</td>\n",
       "      <td>0</td>\n",
       "      <td>1</td>\n",
       "    </tr>\n",
       "  </tbody>\n",
       "</table>\n",
       "<p>176262 rows × 28 columns</p>\n",
       "</div>"
      ],
      "text/plain": [
       "        sellPrice  bed  bath  car  year_norm  propType_house  \\\n",
       "0         1210000  4.0     2  2.0         11               1   \n",
       "1         2250000  4.0     3  4.0         11               1   \n",
       "2         1530000  3.0     1  2.0         11               1   \n",
       "3         1510000  3.0     1  2.0         11               1   \n",
       "4         1500000  5.0     4  4.0         11               1   \n",
       "...           ...  ...   ...  ...        ...             ...   \n",
       "176257    1610000  5.0     3  6.0          8               1   \n",
       "176258    1330000  4.0     2  2.0          7               1   \n",
       "176259    1100000  5.0     3  2.0          7               1   \n",
       "176260     850000  4.0     2  2.0          6               1   \n",
       "176261    1611000  5.0     4  3.0          3               1   \n",
       "\n",
       "        propType_terrace  propType_townhouse  propType_villa  cluster_1  ...  \\\n",
       "0                      0                   0               0          0  ...   \n",
       "1                      0                   0               0          0  ...   \n",
       "2                      0                   0               0          0  ...   \n",
       "3                      0                   0               0          0  ...   \n",
       "4                      0                   0               0          0  ...   \n",
       "...                  ...                 ...             ...        ...  ...   \n",
       "176257                 0                   0               0          0  ...   \n",
       "176258                 0                   0               0          0  ...   \n",
       "176259                 0                   0               0          0  ...   \n",
       "176260                 0                   0               0          0  ...   \n",
       "176261                 0                   0               0          0  ...   \n",
       "\n",
       "        cluster_10  cluster_11  cluster_12  cluster_13  cluster_14  \\\n",
       "0                1           0           0           0           0   \n",
       "1                1           0           0           0           0   \n",
       "2                1           0           0           0           0   \n",
       "3                1           0           0           0           0   \n",
       "4                1           0           0           0           0   \n",
       "...            ...         ...         ...         ...         ...   \n",
       "176257           0           0           0           0           0   \n",
       "176258           0           0           0           0           0   \n",
       "176259           0           0           0           0           0   \n",
       "176260           0           0           0           0           0   \n",
       "176261           0           0           0           0           0   \n",
       "\n",
       "        cluster_15  cluster_16  cluster_17  cluster_18  cluster_19  \n",
       "0                0           0           0           0           0  \n",
       "1                0           0           0           0           0  \n",
       "2                0           0           0           0           0  \n",
       "3                0           0           0           0           0  \n",
       "4                0           0           0           0           0  \n",
       "...            ...         ...         ...         ...         ...  \n",
       "176257           0           0           0           0           1  \n",
       "176258           0           0           0           0           1  \n",
       "176259           0           0           0           0           1  \n",
       "176260           0           0           0           0           1  \n",
       "176261           0           0           0           0           1  \n",
       "\n",
       "[176262 rows x 28 columns]"
      ]
     },
     "execution_count": 27,
     "metadata": {},
     "output_type": "execute_result"
    }
   ],
   "source": [
    "data_clustered_suburbs_final"
   ]
  },
  {
   "cell_type": "markdown",
   "metadata": {},
   "source": [
    "# Clustered Data "
   ]
  },
  {
   "cell_type": "markdown",
   "metadata": {},
   "source": [
    "## Baseline"
   ]
  },
  {
   "cell_type": "markdown",
   "metadata": {},
   "source": [
    "# Split train test muss noch ergänzt werden"
   ]
  },
  {
   "cell_type": "code",
   "execution_count": 28,
   "metadata": {},
   "outputs": [],
   "source": [
    "from sklearn.metrics import mean_squared_error, mean_absolute_error, mean_absolute_percentage_error\n",
    "from sklearn.model_selection import train_test_split\n",
    "import math"
   ]
  },
  {
   "cell_type": "code",
   "execution_count": 29,
   "metadata": {},
   "outputs": [],
   "source": [
    "Results = []"
   ]
  },
  {
   "cell_type": "code",
   "execution_count": 30,
   "metadata": {},
   "outputs": [],
   "source": [
    "y_1 = data_clustered_suburbs_final[\"sellPrice\"]\n",
    "X_1 = data_clustered_suburbs_final.drop([\"sellPrice\"], axis=1)\n",
    "X_1_train, X_1_test, y_1_train, y_1_test = train_test_split(X_1, y_1, test_size=0.3, random_state = 42, shuffle=True)\n"
   ]
  },
  {
   "cell_type": "code",
   "execution_count": 31,
   "metadata": {},
   "outputs": [
    {
     "name": "stdout",
     "output_type": "stream",
     "text": [
      "1248416.9840577713\n"
     ]
    }
   ],
   "source": [
    "Y = pd.DataFrame(y_1_test)\n",
    "avgSellPrice = y_1_train.mean()\n",
    "print(avgSellPrice)\n",
    "Y[\"avgSellPrice\"] = avgSellPrice"
   ]
  },
  {
   "cell_type": "code",
   "execution_count": 32,
   "metadata": {},
   "outputs": [],
   "source": [
    "RMSE = math.sqrt(mean_squared_error(Y[\"sellPrice\"],Y[\"avgSellPrice\"]))\n",
    "MAE = mean_absolute_error(Y[\"sellPrice\"],Y[\"avgSellPrice\"])\n",
    "MAPE = mean_absolute_percentage_error(Y[\"sellPrice\"],Y[\"avgSellPrice\"])\n"
   ]
  },
  {
   "cell_type": "code",
   "execution_count": 33,
   "metadata": {},
   "outputs": [],
   "source": [
    "Results.append({\"name\":\"baseline\",\"scores\":{\"RMSE\":RMSE,\"MAE\":MAE,\"MAPE\":MAPE}})"
   ]
  },
  {
   "cell_type": "code",
   "execution_count": 34,
   "metadata": {},
   "outputs": [
    {
     "name": "stdout",
     "output_type": "stream",
     "text": [
      "[{'name': 'baseline', 'scores': {'RMSE': 837864.7853338753, 'MAE': 566706.2054927957, 'MAPE': 71.98791683655222}}]\n"
     ]
    }
   ],
   "source": [
    "print(Results)"
   ]
  },
  {
   "cell_type": "markdown",
   "metadata": {},
   "source": [
    "## Machine Learning "
   ]
  },
  {
   "cell_type": "code",
   "execution_count": 35,
   "metadata": {},
   "outputs": [
    {
     "name": "stdout",
     "output_type": "stream",
     "text": [
      "/home/jovyan/DeepLearningExperiment\n"
     ]
    }
   ],
   "source": [
    "# For jupyterserver to load the pipeline\n",
    "import os\n",
    "import sys\n",
    "module_path = os.path.abspath(os.path.join('..')) + \"/jovyan/DeepLearningExperiment\"\n",
    "print(module_path)\n",
    "if module_path not in sys.path:\n",
    "    sys.path.append(module_path)"
   ]
  },
  {
   "cell_type": "code",
   "execution_count": 36,
   "metadata": {},
   "outputs": [],
   "source": [
    "from Pipline import Pipeline\n",
    "from sklearn.linear_model import LinearRegression\n",
    "from sklearn.ensemble import RandomForestRegressor"
   ]
  },
  {
   "cell_type": "code",
   "execution_count": 37,
   "metadata": {},
   "outputs": [
    {
     "name": "stdout",
     "output_type": "stream",
     "text": [
      "\n",
      "\n",
      "Radom Forrest\n",
      "-----------------\n",
      "RMSE: 496570.900651921\n",
      "MAE: 278956.2147482463\n",
      "The best results achieved with parameters: {'criterion': 'squared_error', 'max_depth': 300}\n",
      "Time: 160 seconds (2 minutes)\n"
     ]
    },
    {
     "name": "stderr",
     "output_type": "stream",
     "text": [
      "/opt/conda/lib/python3.9/site-packages/seaborn/_decorators.py:36: FutureWarning: Pass the following variables as keyword args: x, y. From version 0.12, the only valid positional argument will be `data`, and passing other arguments without an explicit keyword will result in an error or misinterpretation.\n",
      "  warnings.warn(\n"
     ]
    },
    {
     "data": {
      "image/png": "[encoded data removed]",
      "text/plain": [
       "<Figure size 432x288 with 1 Axes>"
      ]
     },
     "metadata": {
      "needs_background": "light"
     },
     "output_type": "display_data"
    },
    {
     "name": "stdout",
     "output_type": "stream",
     "text": [
      "\n",
      "\n",
      "LinearRegression\n",
      "-----------------\n",
      "RMSE: 526238.916165927\n",
      "MAE: 326793.45405229786\n",
      "The best results achieved with parameters: {}\n",
      "Time: 1 seconds (0 minutes)\n"
     ]
    },
    {
     "name": "stderr",
     "output_type": "stream",
     "text": [
      "/opt/conda/lib/python3.9/site-packages/seaborn/_decorators.py:36: FutureWarning: Pass the following variables as keyword args: x, y. From version 0.12, the only valid positional argument will be `data`, and passing other arguments without an explicit keyword will result in an error or misinterpretation.\n",
      "  warnings.warn(\n"
     ]
    },
    {
     "data": {
      "image/png": "[encoded data removed]",
      "text/plain": [
       "<Figure size 432x288 with 1 Axes>"
      ]
     },
     "metadata": {
      "needs_background": "light"
     },
     "output_type": "display_data"
    }
   ],
   "source": [
    "pipe1 = Pipeline(False,3,5)\n",
    "experiments = [{\"name\":\"Radom Forrest\",\n",
    "    \"model\":RandomForestRegressor(n_jobs=-1),\n",
    "    \"parameters\":{\n",
    "        \"criterion\":[\"squared_error\"],\n",
    "        \"max_depth\":[30,80,100,200,300]\n",
    "    }},\n",
    "    {\"name\":\"LinearRegression\",\n",
    "    \"model\":LinearRegression(n_jobs=-1),\n",
    "    \"parameters\":{\n",
    "    }}]\n",
    "resultsML = pipe1.run_experiments_float(experiments,X=X_1_train,Y=y_1_train,Scaler=MinMaxScaler(), scoring=\"neg_mean_squared_error\")"
   ]
  },
  {
   "cell_type": "code",
   "execution_count": 42,
   "metadata": {},
   "outputs": [
    {
     "name": "stderr",
     "output_type": "stream",
     "text": [
      "/opt/conda/lib/python3.9/site-packages/sklearn/base.py:443: UserWarning: X has feature names, but RandomForestRegressor was fitted without feature names\n",
      "  warnings.warn(\n"
     ]
    }
   ],
   "source": [
    "y_hat = resultsML[0][\"trained_model\"].predict(X_1_test)\n",
    "RMSE = math.sqrt(mean_squared_error(y_1_test,y_hat))\n",
    "MAE = mean_absolute_error(y_1_test,y_hat)\n",
    "MAPE = mean_absolute_percentage_error(y_1_test,y_hat)\n",
    "Results.append({\"name\":resultsML[0][\"name\"],\"scores\":{\"RMSE\":RMSE,\"MAE\":MAE,\"MAPE\":MAPE}})"
   ]
  },
  {
   "cell_type": "code",
   "execution_count": 43,
   "metadata": {},
   "outputs": [
    {
     "name": "stdout",
     "output_type": "stream",
     "text": [
      "[{'name': 'baseline', 'scores': {'RMSE': 837864.7853338753, 'MAE': 566706.2054927957, 'MAPE': 71.98791683655222}}, {'name': 'Radom Forrest', 'scores': {'RMSE': 5448507.629348242, 'MAE': 5383953.107344044, 'MAPE': 406.74715876963904}}, {'name': 'Radom Forrest', 'scores': {'RMSE': 5448507.629348242, 'MAE': 5383953.107344044, 'MAPE': 0.8144661699203852}}, {'name': 'Radom Forrest', 'scores': {'RMSE': 5448507.629348242, 'MAE': 5383953.107344044, 'MAPE': 406.74715876963904}}]\n"
     ]
    }
   ],
   "source": [
    "print(Results)"
   ]
  },
  {
   "cell_type": "markdown",
   "metadata": {},
   "source": [
    "## Neuronales Netz"
   ]
  },
  {
   "cell_type": "code",
   "execution_count": 2,
   "metadata": {},
   "outputs": [],
   "source": [
    "import torch"
   ]
  },
  {
   "cell_type": "code",
   "execution_count": null,
   "metadata": {},
   "outputs": [],
   "source": [
    "def training_and_evaluation(criterion, y, x,SMOTE: bool):\n",
    "    bacs = []\n",
    "    for seed in range(0,5):  \n",
    "        kfold = StratifiedKFold(n_splits=5, shuffle=True ,random_state=1)\n",
    "        #https://androidkt.com/pytorch-k-fold-cross-validation-using-dataloader-and-sklearn/\n",
    "        for fold,(train_idx,test_idx) in enumerate(kfold.split(y=y, X=x)):\n",
    "            x_scaler = MinMaxScaler()\n",
    "            X_train_fold_unscaled, X_test_fold_unscaled = x[train_idx, :], x[test_idx, :]\n",
    "            X_train_fold = x_scaler.fit_transform(X_train_fold_unscaled)\n",
    "            X_test_fold = x_scaler.transform(X_test_fold_unscaled)\n",
    "            Y_train_fold, Y_test_fold = pd.get_dummies(y[train_idx]).to_numpy(), y[test_idx]\n",
    "            X_train_fold_tensor = torch.tensor(X_train_fold).type(torch.float)\n",
    "            Y_train_fold_tensor = torch.tensor(Y_train_fold).to(torch.float)\n",
    "            X_test_fold_tensor = torch.tensor(X_test_fold).type(torch.float)\n",
    "            Y_test_fold_tensor = torch.tensor(Y_test_fold).to(torch.long)\n",
    "\n",
    "            #Building the model\n",
    "            torch.manual_seed(seed=seed)\n",
    "            single_layer_model=MulticlassClassifier(2)\n",
    "            optimizer = torch.optim.Adam(single_layer_model.parameters(), lr=learning_rate)\n",
    "\n",
    "            #Training\n",
    "            train_model(single_layer_model, X_train_fold_tensor, Y_train_fold_tensor, optimizer, criterion)\n",
    "\n",
    "            #Accuracy\n",
    "            bacs.append(compute_acc(single_layer_model,X_test_fold_tensor, Y_test_fold_tensor ))\n",
    "            conf_matrix = np.add(conf_matrix, compute_conf_matrix(single_layer_model,X_test_fold_tensor, Y_test_fold_tensor))\n",
    "    meanbacs = sum(bacs)/len(bacs)\n",
    "    conf_matrix = conf_matrix.astype('float') /conf_matrix.sum(axis=1)[:, np.newaxis]\n",
    "    disp = ConfusionMatrixDisplay(confusion_matrix=conf_matrix)\n",
    "    disp.plot()\n",
    "    print(f\"The average balanced accuracy score for the 5 repeated 5 fold testing was: {meanbacs}\")\n"
   ]
  },
  {
   "cell_type": "markdown",
   "metadata": {},
   "source": [
    "[1] https://www.smh.com.au/property/news/it-s-crazy-sydney-house-prices-surge-55-per-cent-in-less-than-three-years-20220210-p59vck.html, 15.06.2022.  \n",
    "[2] https://www.cnbc.com/2017/06/23/how-much-housing-prices-have-risen-since-1940.html, 15.06.2022."
   ]
  },
  {
   "cell_type": "markdown",
   "metadata": {},
   "source": []
  }
 ],
 "metadata": {
  "kernelspec": {
   "display_name": "Python 3 (ipykernel)",
   "language": "python",
   "name": "python3"
  },
  "orig_nbformat": 4
 },
 "nbformat": 4,
 "nbformat_minor": 2
}
